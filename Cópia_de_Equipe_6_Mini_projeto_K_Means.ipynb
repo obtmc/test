{
  "nbformat": 4,
  "nbformat_minor": 0,
  "metadata": {
    "colab": {
      "provenance": [],
      "collapsed_sections": [
        "dN1vayr63cLg",
        "tCqgMO3S4i1L",
        "b9wpcg8y4tMj",
        "P1u3EpHw4yGo",
        "2K0JPTSW41mx",
        "zbO7ULOq464T",
        "qFbcfzaR_lWW",
        "-1-PrStpvzPG",
        "PdiRKSklwbBu",
        "xcTLyj062vww",
        "tlbK64Q6AHi6"
      ],
      "include_colab_link": true
    },
    "kernelspec": {
      "name": "python3",
      "display_name": "Python 3"
    },
    "language_info": {
      "name": "python"
    }
  },
  "cells": [
    {
      "cell_type": "markdown",
      "metadata": {
        "id": "view-in-github",
        "colab_type": "text"
      },
      "source": [
        "<a href=\"https://colab.research.google.com/github/obtmc/test/blob/Olivia-Bianca-Tavares-de-Melo-Cunha/C%C3%B3pia_de_Equipe_6_Mini_projeto_K_Means.ipynb\" target=\"_parent\"><img src=\"https://colab.research.google.com/assets/colab-badge.svg\" alt=\"Open In Colab\"/></a>"
      ]
    },
    {
      "cell_type": "markdown",
      "source": [
        "# **K-means**\n",
        "**Mini-projeto 3 - Sistemas Inteligentes**\n",
        "\n",
        "Prof. Germano Crispim Vasconcelos\n",
        "\n",
        "Equipe 6\n",
        "- Alice Oliveira - aoqb\n",
        "- Ana Albuquerque - alas3\n",
        "- Enrique Laborão - elm2\n",
        "- Victória Luisi - vlsc\n",
        "- Olivia Tavares - obtmc"
      ],
      "metadata": {
        "id": "lDhtiA7kyr0R"
      }
    },
    {
      "cell_type": "markdown",
      "source": [
        "## ⚙️ **Setup**\n",
        "\n",
        "Importando dependências, conectando Google Drive, lendo datasets e criando os respectivos dataframes."
      ],
      "metadata": {
        "id": "DHwiqgqkyVaD"
      }
    },
    {
      "cell_type": "markdown",
      "source": [
        "### Dependências"
      ],
      "metadata": {
        "id": "DfXIleoJzKtK"
      }
    },
    {
      "cell_type": "code",
      "execution_count": null,
      "metadata": {
        "id": "hTkBhQDSnpdS",
        "colab": {
          "base_uri": "https://localhost:8080/"
        },
        "outputId": "b851bb8c-01c7-4680-f236-5157c007fd05"
      },
      "outputs": [
        {
          "output_type": "stream",
          "name": "stdout",
          "text": [
            "Looking in indexes: https://pypi.org/simple, https://us-python.pkg.dev/colab-wheels/public/simple/\n",
            "Requirement already satisfied: kneed in /usr/local/lib/python3.9/dist-packages (0.8.2)\n",
            "Requirement already satisfied: scipy>=1.0.0 in /usr/local/lib/python3.9/dist-packages (from kneed) (1.10.1)\n",
            "Requirement already satisfied: numpy>=1.14.2 in /usr/local/lib/python3.9/dist-packages (from kneed) (1.22.4)\n",
            "Looking in indexes: https://pypi.org/simple, https://us-python.pkg.dev/colab-wheels/public/simple/\n",
            "Requirement already satisfied: scikit-learn-extra in /usr/local/lib/python3.9/dist-packages (0.3.0)\n",
            "Requirement already satisfied: numpy>=1.13.3 in /usr/local/lib/python3.9/dist-packages (from scikit-learn-extra) (1.22.4)\n",
            "Requirement already satisfied: scikit-learn>=0.23.0 in /usr/local/lib/python3.9/dist-packages (from scikit-learn-extra) (1.2.2)\n",
            "Requirement already satisfied: scipy>=0.19.1 in /usr/local/lib/python3.9/dist-packages (from scikit-learn-extra) (1.10.1)\n",
            "Requirement already satisfied: joblib>=1.1.1 in /usr/local/lib/python3.9/dist-packages (from scikit-learn>=0.23.0->scikit-learn-extra) (1.2.0)\n",
            "Requirement already satisfied: threadpoolctl>=2.0.0 in /usr/local/lib/python3.9/dist-packages (from scikit-learn>=0.23.0->scikit-learn-extra) (3.1.0)\n"
          ]
        }
      ],
      "source": [
        "import math\n",
        "import numpy as np \n",
        "import pandas as pd\n",
        "\n",
        "import seaborn as sns\n",
        "\n",
        "from time import time\n",
        "\n",
        "!pip install kneed\n",
        "from kneed import KneeLocator\n",
        "\n",
        "import matplotlib.pyplot as plt\n",
        "\n",
        "from sklearn.preprocessing import MinMaxScaler, StandardScaler\n",
        "from numpy.linalg import norm\n",
        "from sklearn.decomposition import PCA\n",
        "\n",
        "from sklearn.cluster import KMeans\n",
        "from sklearn.mixture import GaussianMixture\n",
        "\n",
        "!pip install scikit-learn-extra\n",
        "from sklearn_extra.cluster import KMedoids\n",
        "\n",
        "from sklearn.metrics import silhouette_score, davies_bouldin_score, calinski_harabasz_score, silhouette_samples, silhouette_score, classification_report, accuracy_score, precision_score, recall_score, f1_score, roc_auc_score, confusion_matrix"
      ]
    },
    {
      "cell_type": "markdown",
      "source": [
        "### Drive"
      ],
      "metadata": {
        "id": "zuGmCAk60a4u"
      }
    },
    {
      "cell_type": "code",
      "source": [
        "from google.colab import drive\n",
        "drive.mount('/content/drive')\n",
        "\n",
        "base_path = '/content/drive/MyDrive/'"
      ],
      "metadata": {
        "id": "Xq1Dt-ZOLnWV",
        "colab": {
          "base_uri": "https://localhost:8080/"
        },
        "outputId": "4efe513d-2ebb-461e-fc92-b0a3854112fa"
      },
      "execution_count": null,
      "outputs": [
        {
          "output_type": "stream",
          "name": "stdout",
          "text": [
            "Drive already mounted at /content/drive; to attempt to forcibly remount, call drive.mount(\"/content/drive\", force_remount=True).\n"
          ]
        }
      ]
    },
    {
      "cell_type": "markdown",
      "source": [
        "### Upando datasets\n"
      ],
      "metadata": {
        "id": "p7DpYuK-44Fj"
      }
    },
    {
      "cell_type": "markdown",
      "source": [
        "- U.S. News and World Report’s College Data: https://www.kaggle.com/datasets/flyingwombat/us-news-and-world-reports-college-data/data\n"
      ],
      "metadata": {
        "id": "5M2R4zkR2cR2"
      }
    },
    {
      "cell_type": "code",
      "source": [
        "college_dataset_path = base_path + 'Colab Notebooks/College.csv'"
      ],
      "metadata": {
        "id": "hQM2ON6kQIPV"
      },
      "execution_count": null,
      "outputs": []
    },
    {
      "cell_type": "markdown",
      "source": [
        "### Lendo datasets"
      ],
      "metadata": {
        "id": "z_dP8rIM5Bzc"
      }
    },
    {
      "cell_type": "code",
      "source": [
        "college_df = pd.read_csv(college_dataset_path)\n",
        "college_df"
      ],
      "metadata": {
        "id": "dml7qMbGLz5O",
        "colab": {
          "base_uri": "https://localhost:8080/"
        },
        "outputId": "5e77dd45-ffac-467a-fa07-73b94c240854"
      },
      "execution_count": null,
      "outputs": [
        {
          "output_type": "execute_result",
          "data": {
            "text/plain": [
              "                         Unnamed: 0 Private   Apps  Accept  Enroll  Top10perc  \\\n",
              "0      Abilene Christian University     Yes   1660    1232     721         23   \n",
              "1                Adelphi University     Yes   2186    1924     512         16   \n",
              "2                    Adrian College     Yes   1428    1097     336         22   \n",
              "3               Agnes Scott College     Yes    417     349     137         60   \n",
              "4         Alaska Pacific University     Yes    193     146      55         16   \n",
              "..                              ...     ...    ...     ...     ...        ...   \n",
              "772         Worcester State College      No   2197    1515     543          4   \n",
              "773               Xavier University     Yes   1959    1805     695         24   \n",
              "774  Xavier University of Louisiana     Yes   2097    1915     695         34   \n",
              "775                 Yale University     Yes  10705    2453    1317         95   \n",
              "776    York College of Pennsylvania     Yes   2989    1855     691         28   \n",
              "\n",
              "     Top25perc  F.Undergrad  P.Undergrad  Outstate  Room.Board  Books  \\\n",
              "0           52         2885          537      7440        3300    450   \n",
              "1           29         2683         1227     12280        6450    750   \n",
              "2           50         1036           99     11250        3750    400   \n",
              "3           89          510           63     12960        5450    450   \n",
              "4           44          249          869      7560        4120    800   \n",
              "..         ...          ...          ...       ...         ...    ...   \n",
              "772         26         3089         2029      6797        3900    500   \n",
              "773         47         2849         1107     11520        4960    600   \n",
              "774         61         2793          166      6900        4200    617   \n",
              "775         99         5217           83     19840        6510    630   \n",
              "776         63         2988         1726      4990        3560    500   \n",
              "\n",
              "     Personal  PhD  Terminal  S.F.Ratio  perc.alumni  Expend  Grad.Rate  \n",
              "0        2200   70        78       18.1           12    7041         60  \n",
              "1        1500   29        30       12.2           16   10527         56  \n",
              "2        1165   53        66       12.9           30    8735         54  \n",
              "3         875   92        97        7.7           37   19016         59  \n",
              "4        1500   76        72       11.9            2   10922         15  \n",
              "..        ...  ...       ...        ...          ...     ...        ...  \n",
              "772      1200   60        60       21.0           14    4469         40  \n",
              "773      1250   73        75       13.3           31    9189         83  \n",
              "774       781   67        75       14.4           20    8323         49  \n",
              "775      2115   96        96        5.8           49   40386         99  \n",
              "776      1250   75        75       18.1           28    4509         99  \n",
              "\n",
              "[777 rows x 19 columns]"
            ],
            "text/html": [
              "\n",
              "  <div id=\"df-2ff68e8d-b2a2-45db-b24e-9273edaad80e\">\n",
              "    <div class=\"colab-df-container\">\n",
              "      <div>\n",
              "<style scoped>\n",
              "    .dataframe tbody tr th:only-of-type {\n",
              "        vertical-align: middle;\n",
              "    }\n",
              "\n",
              "    .dataframe tbody tr th {\n",
              "        vertical-align: top;\n",
              "    }\n",
              "\n",
              "    .dataframe thead th {\n",
              "        text-align: right;\n",
              "    }\n",
              "</style>\n",
              "<table border=\"1\" class=\"dataframe\">\n",
              "  <thead>\n",
              "    <tr style=\"text-align: right;\">\n",
              "      <th></th>\n",
              "      <th>Unnamed: 0</th>\n",
              "      <th>Private</th>\n",
              "      <th>Apps</th>\n",
              "      <th>Accept</th>\n",
              "      <th>Enroll</th>\n",
              "      <th>Top10perc</th>\n",
              "      <th>Top25perc</th>\n",
              "      <th>F.Undergrad</th>\n",
              "      <th>P.Undergrad</th>\n",
              "      <th>Outstate</th>\n",
              "      <th>Room.Board</th>\n",
              "      <th>Books</th>\n",
              "      <th>Personal</th>\n",
              "      <th>PhD</th>\n",
              "      <th>Terminal</th>\n",
              "      <th>S.F.Ratio</th>\n",
              "      <th>perc.alumni</th>\n",
              "      <th>Expend</th>\n",
              "      <th>Grad.Rate</th>\n",
              "    </tr>\n",
              "  </thead>\n",
              "  <tbody>\n",
              "    <tr>\n",
              "      <th>0</th>\n",
              "      <td>Abilene Christian University</td>\n",
              "      <td>Yes</td>\n",
              "      <td>1660</td>\n",
              "      <td>1232</td>\n",
              "      <td>721</td>\n",
              "      <td>23</td>\n",
              "      <td>52</td>\n",
              "      <td>2885</td>\n",
              "      <td>537</td>\n",
              "      <td>7440</td>\n",
              "      <td>3300</td>\n",
              "      <td>450</td>\n",
              "      <td>2200</td>\n",
              "      <td>70</td>\n",
              "      <td>78</td>\n",
              "      <td>18.1</td>\n",
              "      <td>12</td>\n",
              "      <td>7041</td>\n",
              "      <td>60</td>\n",
              "    </tr>\n",
              "    <tr>\n",
              "      <th>1</th>\n",
              "      <td>Adelphi University</td>\n",
              "      <td>Yes</td>\n",
              "      <td>2186</td>\n",
              "      <td>1924</td>\n",
              "      <td>512</td>\n",
              "      <td>16</td>\n",
              "      <td>29</td>\n",
              "      <td>2683</td>\n",
              "      <td>1227</td>\n",
              "      <td>12280</td>\n",
              "      <td>6450</td>\n",
              "      <td>750</td>\n",
              "      <td>1500</td>\n",
              "      <td>29</td>\n",
              "      <td>30</td>\n",
              "      <td>12.2</td>\n",
              "      <td>16</td>\n",
              "      <td>10527</td>\n",
              "      <td>56</td>\n",
              "    </tr>\n",
              "    <tr>\n",
              "      <th>2</th>\n",
              "      <td>Adrian College</td>\n",
              "      <td>Yes</td>\n",
              "      <td>1428</td>\n",
              "      <td>1097</td>\n",
              "      <td>336</td>\n",
              "      <td>22</td>\n",
              "      <td>50</td>\n",
              "      <td>1036</td>\n",
              "      <td>99</td>\n",
              "      <td>11250</td>\n",
              "      <td>3750</td>\n",
              "      <td>400</td>\n",
              "      <td>1165</td>\n",
              "      <td>53</td>\n",
              "      <td>66</td>\n",
              "      <td>12.9</td>\n",
              "      <td>30</td>\n",
              "      <td>8735</td>\n",
              "      <td>54</td>\n",
              "    </tr>\n",
              "    <tr>\n",
              "      <th>3</th>\n",
              "      <td>Agnes Scott College</td>\n",
              "      <td>Yes</td>\n",
              "      <td>417</td>\n",
              "      <td>349</td>\n",
              "      <td>137</td>\n",
              "      <td>60</td>\n",
              "      <td>89</td>\n",
              "      <td>510</td>\n",
              "      <td>63</td>\n",
              "      <td>12960</td>\n",
              "      <td>5450</td>\n",
              "      <td>450</td>\n",
              "      <td>875</td>\n",
              "      <td>92</td>\n",
              "      <td>97</td>\n",
              "      <td>7.7</td>\n",
              "      <td>37</td>\n",
              "      <td>19016</td>\n",
              "      <td>59</td>\n",
              "    </tr>\n",
              "    <tr>\n",
              "      <th>4</th>\n",
              "      <td>Alaska Pacific University</td>\n",
              "      <td>Yes</td>\n",
              "      <td>193</td>\n",
              "      <td>146</td>\n",
              "      <td>55</td>\n",
              "      <td>16</td>\n",
              "      <td>44</td>\n",
              "      <td>249</td>\n",
              "      <td>869</td>\n",
              "      <td>7560</td>\n",
              "      <td>4120</td>\n",
              "      <td>800</td>\n",
              "      <td>1500</td>\n",
              "      <td>76</td>\n",
              "      <td>72</td>\n",
              "      <td>11.9</td>\n",
              "      <td>2</td>\n",
              "      <td>10922</td>\n",
              "      <td>15</td>\n",
              "    </tr>\n",
              "    <tr>\n",
              "      <th>...</th>\n",
              "      <td>...</td>\n",
              "      <td>...</td>\n",
              "      <td>...</td>\n",
              "      <td>...</td>\n",
              "      <td>...</td>\n",
              "      <td>...</td>\n",
              "      <td>...</td>\n",
              "      <td>...</td>\n",
              "      <td>...</td>\n",
              "      <td>...</td>\n",
              "      <td>...</td>\n",
              "      <td>...</td>\n",
              "      <td>...</td>\n",
              "      <td>...</td>\n",
              "      <td>...</td>\n",
              "      <td>...</td>\n",
              "      <td>...</td>\n",
              "      <td>...</td>\n",
              "      <td>...</td>\n",
              "    </tr>\n",
              "    <tr>\n",
              "      <th>772</th>\n",
              "      <td>Worcester State College</td>\n",
              "      <td>No</td>\n",
              "      <td>2197</td>\n",
              "      <td>1515</td>\n",
              "      <td>543</td>\n",
              "      <td>4</td>\n",
              "      <td>26</td>\n",
              "      <td>3089</td>\n",
              "      <td>2029</td>\n",
              "      <td>6797</td>\n",
              "      <td>3900</td>\n",
              "      <td>500</td>\n",
              "      <td>1200</td>\n",
              "      <td>60</td>\n",
              "      <td>60</td>\n",
              "      <td>21.0</td>\n",
              "      <td>14</td>\n",
              "      <td>4469</td>\n",
              "      <td>40</td>\n",
              "    </tr>\n",
              "    <tr>\n",
              "      <th>773</th>\n",
              "      <td>Xavier University</td>\n",
              "      <td>Yes</td>\n",
              "      <td>1959</td>\n",
              "      <td>1805</td>\n",
              "      <td>695</td>\n",
              "      <td>24</td>\n",
              "      <td>47</td>\n",
              "      <td>2849</td>\n",
              "      <td>1107</td>\n",
              "      <td>11520</td>\n",
              "      <td>4960</td>\n",
              "      <td>600</td>\n",
              "      <td>1250</td>\n",
              "      <td>73</td>\n",
              "      <td>75</td>\n",
              "      <td>13.3</td>\n",
              "      <td>31</td>\n",
              "      <td>9189</td>\n",
              "      <td>83</td>\n",
              "    </tr>\n",
              "    <tr>\n",
              "      <th>774</th>\n",
              "      <td>Xavier University of Louisiana</td>\n",
              "      <td>Yes</td>\n",
              "      <td>2097</td>\n",
              "      <td>1915</td>\n",
              "      <td>695</td>\n",
              "      <td>34</td>\n",
              "      <td>61</td>\n",
              "      <td>2793</td>\n",
              "      <td>166</td>\n",
              "      <td>6900</td>\n",
              "      <td>4200</td>\n",
              "      <td>617</td>\n",
              "      <td>781</td>\n",
              "      <td>67</td>\n",
              "      <td>75</td>\n",
              "      <td>14.4</td>\n",
              "      <td>20</td>\n",
              "      <td>8323</td>\n",
              "      <td>49</td>\n",
              "    </tr>\n",
              "    <tr>\n",
              "      <th>775</th>\n",
              "      <td>Yale University</td>\n",
              "      <td>Yes</td>\n",
              "      <td>10705</td>\n",
              "      <td>2453</td>\n",
              "      <td>1317</td>\n",
              "      <td>95</td>\n",
              "      <td>99</td>\n",
              "      <td>5217</td>\n",
              "      <td>83</td>\n",
              "      <td>19840</td>\n",
              "      <td>6510</td>\n",
              "      <td>630</td>\n",
              "      <td>2115</td>\n",
              "      <td>96</td>\n",
              "      <td>96</td>\n",
              "      <td>5.8</td>\n",
              "      <td>49</td>\n",
              "      <td>40386</td>\n",
              "      <td>99</td>\n",
              "    </tr>\n",
              "    <tr>\n",
              "      <th>776</th>\n",
              "      <td>York College of Pennsylvania</td>\n",
              "      <td>Yes</td>\n",
              "      <td>2989</td>\n",
              "      <td>1855</td>\n",
              "      <td>691</td>\n",
              "      <td>28</td>\n",
              "      <td>63</td>\n",
              "      <td>2988</td>\n",
              "      <td>1726</td>\n",
              "      <td>4990</td>\n",
              "      <td>3560</td>\n",
              "      <td>500</td>\n",
              "      <td>1250</td>\n",
              "      <td>75</td>\n",
              "      <td>75</td>\n",
              "      <td>18.1</td>\n",
              "      <td>28</td>\n",
              "      <td>4509</td>\n",
              "      <td>99</td>\n",
              "    </tr>\n",
              "  </tbody>\n",
              "</table>\n",
              "<p>777 rows × 19 columns</p>\n",
              "</div>\n",
              "      <button class=\"colab-df-convert\" onclick=\"convertToInteractive('df-2ff68e8d-b2a2-45db-b24e-9273edaad80e')\"\n",
              "              title=\"Convert this dataframe to an interactive table.\"\n",
              "              style=\"display:none;\">\n",
              "        \n",
              "  <svg xmlns=\"http://www.w3.org/2000/svg\" height=\"24px\"viewBox=\"0 0 24 24\"\n",
              "       width=\"24px\">\n",
              "    <path d=\"M0 0h24v24H0V0z\" fill=\"none\"/>\n",
              "    <path d=\"M18.56 5.44l.94 2.06.94-2.06 2.06-.94-2.06-.94-.94-2.06-.94 2.06-2.06.94zm-11 1L8.5 8.5l.94-2.06 2.06-.94-2.06-.94L8.5 2.5l-.94 2.06-2.06.94zm10 10l.94 2.06.94-2.06 2.06-.94-2.06-.94-.94-2.06-.94 2.06-2.06.94z\"/><path d=\"M17.41 7.96l-1.37-1.37c-.4-.4-.92-.59-1.43-.59-.52 0-1.04.2-1.43.59L10.3 9.45l-7.72 7.72c-.78.78-.78 2.05 0 2.83L4 21.41c.39.39.9.59 1.41.59.51 0 1.02-.2 1.41-.59l7.78-7.78 2.81-2.81c.8-.78.8-2.07 0-2.86zM5.41 20L4 18.59l7.72-7.72 1.47 1.35L5.41 20z\"/>\n",
              "  </svg>\n",
              "      </button>\n",
              "      \n",
              "  <style>\n",
              "    .colab-df-container {\n",
              "      display:flex;\n",
              "      flex-wrap:wrap;\n",
              "      gap: 12px;\n",
              "    }\n",
              "\n",
              "    .colab-df-convert {\n",
              "      background-color: #E8F0FE;\n",
              "      border: none;\n",
              "      border-radius: 50%;\n",
              "      cursor: pointer;\n",
              "      display: none;\n",
              "      fill: #1967D2;\n",
              "      height: 32px;\n",
              "      padding: 0 0 0 0;\n",
              "      width: 32px;\n",
              "    }\n",
              "\n",
              "    .colab-df-convert:hover {\n",
              "      background-color: #E2EBFA;\n",
              "      box-shadow: 0px 1px 2px rgba(60, 64, 67, 0.3), 0px 1px 3px 1px rgba(60, 64, 67, 0.15);\n",
              "      fill: #174EA6;\n",
              "    }\n",
              "\n",
              "    [theme=dark] .colab-df-convert {\n",
              "      background-color: #3B4455;\n",
              "      fill: #D2E3FC;\n",
              "    }\n",
              "\n",
              "    [theme=dark] .colab-df-convert:hover {\n",
              "      background-color: #434B5C;\n",
              "      box-shadow: 0px 1px 3px 1px rgba(0, 0, 0, 0.15);\n",
              "      filter: drop-shadow(0px 1px 2px rgba(0, 0, 0, 0.3));\n",
              "      fill: #FFFFFF;\n",
              "    }\n",
              "  </style>\n",
              "\n",
              "      <script>\n",
              "        const buttonEl =\n",
              "          document.querySelector('#df-2ff68e8d-b2a2-45db-b24e-9273edaad80e button.colab-df-convert');\n",
              "        buttonEl.style.display =\n",
              "          google.colab.kernel.accessAllowed ? 'block' : 'none';\n",
              "\n",
              "        async function convertToInteractive(key) {\n",
              "          const element = document.querySelector('#df-2ff68e8d-b2a2-45db-b24e-9273edaad80e');\n",
              "          const dataTable =\n",
              "            await google.colab.kernel.invokeFunction('convertToInteractive',\n",
              "                                                     [key], {});\n",
              "          if (!dataTable) return;\n",
              "\n",
              "          const docLinkHtml = 'Like what you see? Visit the ' +\n",
              "            '<a target=\"_blank\" href=https://colab.research.google.com/notebooks/data_table.ipynb>data table notebook</a>'\n",
              "            + ' to learn more about interactive tables.';\n",
              "          element.innerHTML = '';\n",
              "          dataTable['output_type'] = 'display_data';\n",
              "          await google.colab.output.renderOutput(dataTable, element);\n",
              "          const docLink = document.createElement('div');\n",
              "          docLink.innerHTML = docLinkHtml;\n",
              "          element.appendChild(docLink);\n",
              "        }\n",
              "      </script>\n",
              "    </div>\n",
              "  </div>\n",
              "  "
            ]
          },
          "metadata": {},
          "execution_count": 1238
        }
      ]
    },
    {
      "cell_type": "markdown",
      "source": [
        "### Funções"
      ],
      "metadata": {
        "id": "qeOWDJNd6Cw7"
      }
    },
    {
      "cell_type": "code",
      "source": [
        "def Kmeans(K, INIT, RANDOM_STATE, N_INIT, MAX_ITER, DATA, PLOT):# Executando K-Means\n",
        "  t0 = time()\n",
        "  kmeans = KMeans(n_clusters=K, init=INIT, random_state=RANDOM_STATE, n_init=N_INIT, max_iter=MAX_ITER)\n",
        "  kmeans.fit(DATA)\n",
        "  t1 = time()\n",
        "  time_kmeans = t1 - t0\n",
        "  inertia_kmeans = kmeans.inertia_\n",
        "\n",
        "  # Calculando distância inter-cluster usando o silhouette_score\n",
        "  inter_cluster_distance_kmeans = silhouette_score(DATA, kmeans.labels_)\n",
        "\n",
        "  # Imprimindo resultados\n",
        "  Kmeans_report(time_kmeans, inertia_kmeans, inter_cluster_distance_kmeans)\n",
        "\n",
        "  # Plotando gráfico\n",
        "  if(PLOT == 1):\n",
        "    Kmeans_plot_clusters(labels, centrids, DATA)"
      ],
      "metadata": {
        "id": "GB272QYxJAJT"
      },
      "execution_count": null,
      "outputs": []
    },
    {
      "cell_type": "code",
      "source": [
        "def Kmeans_report(time_kmeans, inertia_kmeans, inter_cluster_distance_kmeans):\n",
        "  print(\"\\n\\t\\t\\t\\tK-Means PCA\\n\")\n",
        "  print(\"Tempo de Execução: \\t\\t{:.2f}s\".format(time_kmeans))\n",
        "  print(\"Distância Intra-cluster: \\t{:.2f}\".format(inertia_kmeans))\n",
        "  print(\"Distância Inter-cluster: \\t{:.2f}\".format(inter_cluster_distance_kmeans))"
      ],
      "metadata": {
        "id": "3G1p85XpJAJw"
      },
      "execution_count": null,
      "outputs": []
    },
    {
      "cell_type": "code",
      "source": [
        "Kmeans_plot_clusters(labels, centroids, DATA)\n"
      ],
      "metadata": {
        "id": "_YgmwFrjen5u"
      },
      "execution_count": null,
      "outputs": []
    },
    {
      "cell_type": "code",
      "source": [
        "# selecionando a segunda e última coluna do array de dados\n",
        "x = X_pca[:, 0]\n",
        "y = X_pca[:, 1]"
      ],
      "metadata": {
        "id": "h0yda7xYen5u"
      },
      "execution_count": null,
      "outputs": []
    },
    {
      "cell_type": "code",
      "source": [
        "# Plota os pontos coloridos pelos clusters\n",
        "plt.scatter(x,y, c=labels)\n",
        "\n",
        "# Plota os centróides em vermelho\n",
        "plt.scatter(centroids[:, 0], centroids[:, 1], marker='*', s=200, linewidths=1, color='r')\n",
        "\n",
        "# Mostra o gráfico\n",
        "plt.show()"
      ],
      "metadata": {
        "colab": {
          "base_uri": "https://localhost:8080/",
          "height": 430
        },
        "outputId": "007ef499-141a-4099-d319-79352ad829a5",
        "id": "D5tlk8SQen5v"
      },
      "execution_count": null,
      "outputs": [
        {
          "output_type": "display_data",
          "data": {
            "text/plain": [
              "<Figure size 640x480 with 1 Axes>"
            ],
            "image/png": "[encoded data removed]"
          },
          "metadata": {}
        }
      ]
    },
    {
      "cell_type": "code",
      "source": [
        "def report(title, y_test, y_pred):\n",
        "  report = classification_report(y_test, y_pred)\n",
        "  print(title)\n",
        "  print(report)\n",
        "  plot_confusion_matrix(y_test, y_pred)\n",
        "  \n",
        "def plot_confusion_matrix(y_test, y_pred):\n",
        "  cm = confusion_matrix(y_test, y_pred)\n",
        "  fig, ax = plt.subplots(figsize=(4,4))\n",
        "  sns.heatmap(cm, annot=True)"
      ],
      "metadata": {
        "id": "n0yx81VVtb-9"
      },
      "execution_count": null,
      "outputs": []
    },
    {
      "cell_type": "markdown",
      "source": [
        "## 📘 **Projeto: College Dataset**"
      ],
      "metadata": {
        "id": "0-j-Wx078HKc"
      }
    },
    {
      "cell_type": "markdown",
      "source": [
        "### 🔎 Análise e limpeza do Dataset"
      ],
      "metadata": {
        "id": "xdo6GTiB_WuK"
      }
    },
    {
      "cell_type": "code",
      "source": [
        "college_df.info()\n",
        "college_df.isnull().sum()"
      ],
      "metadata": {
        "id": "HCn7r3mzAaBC",
        "colab": {
          "base_uri": "https://localhost:8080/"
        },
        "outputId": "f12c362f-cedf-4f23-813b-67422430adaf"
      },
      "execution_count": null,
      "outputs": [
        {
          "output_type": "stream",
          "name": "stdout",
          "text": [
            "<class 'pandas.core.frame.DataFrame'>\n",
            "RangeIndex: 777 entries, 0 to 776\n",
            "Data columns (total 19 columns):\n",
            " #   Column       Non-Null Count  Dtype  \n",
            "---  ------       --------------  -----  \n",
            " 0   Unnamed: 0   777 non-null    object \n",
            " 1   Private      777 non-null    object \n",
            " 2   Apps         777 non-null    int64  \n",
            " 3   Accept       777 non-null    int64  \n",
            " 4   Enroll       777 non-null    int64  \n",
            " 5   Top10perc    777 non-null    int64  \n",
            " 6   Top25perc    777 non-null    int64  \n",
            " 7   F.Undergrad  777 non-null    int64  \n",
            " 8   P.Undergrad  777 non-null    int64  \n",
            " 9   Outstate     777 non-null    int64  \n",
            " 10  Room.Board   777 non-null    int64  \n",
            " 11  Books        777 non-null    int64  \n",
            " 12  Personal     777 non-null    int64  \n",
            " 13  PhD          777 non-null    int64  \n",
            " 14  Terminal     777 non-null    int64  \n",
            " 15  S.F.Ratio    777 non-null    float64\n",
            " 16  perc.alumni  777 non-null    int64  \n",
            " 17  Expend       777 non-null    int64  \n",
            " 18  Grad.Rate    777 non-null    int64  \n",
            "dtypes: float64(1), int64(16), object(2)\n",
            "memory usage: 115.5+ KB\n"
          ]
        },
        {
          "output_type": "execute_result",
          "data": {
            "text/plain": [
              "Unnamed: 0     0\n",
              "Private        0\n",
              "Apps           0\n",
              "Accept         0\n",
              "Enroll         0\n",
              "Top10perc      0\n",
              "Top25perc      0\n",
              "F.Undergrad    0\n",
              "P.Undergrad    0\n",
              "Outstate       0\n",
              "Room.Board     0\n",
              "Books          0\n",
              "Personal       0\n",
              "PhD            0\n",
              "Terminal       0\n",
              "S.F.Ratio      0\n",
              "perc.alumni    0\n",
              "Expend         0\n",
              "Grad.Rate      0\n",
              "dtype: int64"
            ]
          },
          "metadata": {},
          "execution_count": 1344
        }
      ]
    },
    {
      "cell_type": "markdown",
      "source": [
        "Antes de treinar o modelo, é necessário remover a colunas do nome da universidade e separar a coluna da label 'Private' para garantir uma análise não supervisionada."
      ],
      "metadata": {
        "id": "Jr_JM33JXNpg"
      }
    },
    {
      "cell_type": "code",
      "source": [
        "labels_private = college_df['Private'].copy()\n",
        "\n",
        "college_df_to_normalize = college_df.copy()\n",
        "college_df_to_normalize.drop(['Unnamed: 0', 'Private'], axis=1, inplace=True)\n",
        "college_df_to_normalize.head()"
      ],
      "metadata": {
        "id": "rpa7DFOkWz2X",
        "colab": {
          "base_uri": "https://localhost:8080/"
        },
        "outputId": "0011845c-042a-4ca5-fee1-67af9207e5b5"
      },
      "execution_count": null,
      "outputs": [
        {
          "output_type": "execute_result",
          "data": {
            "text/plain": [
              "   Apps  Accept  Enroll  Top10perc  Top25perc  F.Undergrad  P.Undergrad  \\\n",
              "0  1660    1232     721         23         52         2885          537   \n",
              "1  2186    1924     512         16         29         2683         1227   \n",
              "2  1428    1097     336         22         50         1036           99   \n",
              "3   417     349     137         60         89          510           63   \n",
              "4   193     146      55         16         44          249          869   \n",
              "\n",
              "   Outstate  Room.Board  Books  Personal  PhD  Terminal  S.F.Ratio  \\\n",
              "0      7440        3300    450      2200   70        78       18.1   \n",
              "1     12280        6450    750      1500   29        30       12.2   \n",
              "2     11250        3750    400      1165   53        66       12.9   \n",
              "3     12960        5450    450       875   92        97        7.7   \n",
              "4      7560        4120    800      1500   76        72       11.9   \n",
              "\n",
              "   perc.alumni  Expend  Grad.Rate  \n",
              "0           12    7041         60  \n",
              "1           16   10527         56  \n",
              "2           30    8735         54  \n",
              "3           37   19016         59  \n",
              "4            2   10922         15  "
            ],
            "text/html": [
              "\n",
              "  <div id=\"df-44e92930-a9a8-45af-ae5e-c4b6e968874f\">\n",
              "    <div class=\"colab-df-container\">\n",
              "      <div>\n",
              "<style scoped>\n",
              "    .dataframe tbody tr th:only-of-type {\n",
              "        vertical-align: middle;\n",
              "    }\n",
              "\n",
              "    .dataframe tbody tr th {\n",
              "        vertical-align: top;\n",
              "    }\n",
              "\n",
              "    .dataframe thead th {\n",
              "        text-align: right;\n",
              "    }\n",
              "</style>\n",
              "<table border=\"1\" class=\"dataframe\">\n",
              "  <thead>\n",
              "    <tr style=\"text-align: right;\">\n",
              "      <th></th>\n",
              "      <th>Apps</th>\n",
              "      <th>Accept</th>\n",
              "      <th>Enroll</th>\n",
              "      <th>Top10perc</th>\n",
              "      <th>Top25perc</th>\n",
              "      <th>F.Undergrad</th>\n",
              "      <th>P.Undergrad</th>\n",
              "      <th>Outstate</th>\n",
              "      <th>Room.Board</th>\n",
              "      <th>Books</th>\n",
              "      <th>Personal</th>\n",
              "      <th>PhD</th>\n",
              "      <th>Terminal</th>\n",
              "      <th>S.F.Ratio</th>\n",
              "      <th>perc.alumni</th>\n",
              "      <th>Expend</th>\n",
              "      <th>Grad.Rate</th>\n",
              "    </tr>\n",
              "  </thead>\n",
              "  <tbody>\n",
              "    <tr>\n",
              "      <th>0</th>\n",
              "      <td>1660</td>\n",
              "      <td>1232</td>\n",
              "      <td>721</td>\n",
              "      <td>23</td>\n",
              "      <td>52</td>\n",
              "      <td>2885</td>\n",
              "      <td>537</td>\n",
              "      <td>7440</td>\n",
              "      <td>3300</td>\n",
              "      <td>450</td>\n",
              "      <td>2200</td>\n",
              "      <td>70</td>\n",
              "      <td>78</td>\n",
              "      <td>18.1</td>\n",
              "      <td>12</td>\n",
              "      <td>7041</td>\n",
              "      <td>60</td>\n",
              "    </tr>\n",
              "    <tr>\n",
              "      <th>1</th>\n",
              "      <td>2186</td>\n",
              "      <td>1924</td>\n",
              "      <td>512</td>\n",
              "      <td>16</td>\n",
              "      <td>29</td>\n",
              "      <td>2683</td>\n",
              "      <td>1227</td>\n",
              "      <td>12280</td>\n",
              "      <td>6450</td>\n",
              "      <td>750</td>\n",
              "      <td>1500</td>\n",
              "      <td>29</td>\n",
              "      <td>30</td>\n",
              "      <td>12.2</td>\n",
              "      <td>16</td>\n",
              "      <td>10527</td>\n",
              "      <td>56</td>\n",
              "    </tr>\n",
              "    <tr>\n",
              "      <th>2</th>\n",
              "      <td>1428</td>\n",
              "      <td>1097</td>\n",
              "      <td>336</td>\n",
              "      <td>22</td>\n",
              "      <td>50</td>\n",
              "      <td>1036</td>\n",
              "      <td>99</td>\n",
              "      <td>11250</td>\n",
              "      <td>3750</td>\n",
              "      <td>400</td>\n",
              "      <td>1165</td>\n",
              "      <td>53</td>\n",
              "      <td>66</td>\n",
              "      <td>12.9</td>\n",
              "      <td>30</td>\n",
              "      <td>8735</td>\n",
              "      <td>54</td>\n",
              "    </tr>\n",
              "    <tr>\n",
              "      <th>3</th>\n",
              "      <td>417</td>\n",
              "      <td>349</td>\n",
              "      <td>137</td>\n",
              "      <td>60</td>\n",
              "      <td>89</td>\n",
              "      <td>510</td>\n",
              "      <td>63</td>\n",
              "      <td>12960</td>\n",
              "      <td>5450</td>\n",
              "      <td>450</td>\n",
              "      <td>875</td>\n",
              "      <td>92</td>\n",
              "      <td>97</td>\n",
              "      <td>7.7</td>\n",
              "      <td>37</td>\n",
              "      <td>19016</td>\n",
              "      <td>59</td>\n",
              "    </tr>\n",
              "    <tr>\n",
              "      <th>4</th>\n",
              "      <td>193</td>\n",
              "      <td>146</td>\n",
              "      <td>55</td>\n",
              "      <td>16</td>\n",
              "      <td>44</td>\n",
              "      <td>249</td>\n",
              "      <td>869</td>\n",
              "      <td>7560</td>\n",
              "      <td>4120</td>\n",
              "      <td>800</td>\n",
              "      <td>1500</td>\n",
              "      <td>76</td>\n",
              "      <td>72</td>\n",
              "      <td>11.9</td>\n",
              "      <td>2</td>\n",
              "      <td>10922</td>\n",
              "      <td>15</td>\n",
              "    </tr>\n",
              "  </tbody>\n",
              "</table>\n",
              "</div>\n",
              "      <button class=\"colab-df-convert\" onclick=\"convertToInteractive('df-44e92930-a9a8-45af-ae5e-c4b6e968874f')\"\n",
              "              title=\"Convert this dataframe to an interactive table.\"\n",
              "              style=\"display:none;\">\n",
              "        \n",
              "  <svg xmlns=\"http://www.w3.org/2000/svg\" height=\"24px\"viewBox=\"0 0 24 24\"\n",
              "       width=\"24px\">\n",
              "    <path d=\"M0 0h24v24H0V0z\" fill=\"none\"/>\n",
              "    <path d=\"M18.56 5.44l.94 2.06.94-2.06 2.06-.94-2.06-.94-.94-2.06-.94 2.06-2.06.94zm-11 1L8.5 8.5l.94-2.06 2.06-.94-2.06-.94L8.5 2.5l-.94 2.06-2.06.94zm10 10l.94 2.06.94-2.06 2.06-.94-2.06-.94-.94-2.06-.94 2.06-2.06.94z\"/><path d=\"M17.41 7.96l-1.37-1.37c-.4-.4-.92-.59-1.43-.59-.52 0-1.04.2-1.43.59L10.3 9.45l-7.72 7.72c-.78.78-.78 2.05 0 2.83L4 21.41c.39.39.9.59 1.41.59.51 0 1.02-.2 1.41-.59l7.78-7.78 2.81-2.81c.8-.78.8-2.07 0-2.86zM5.41 20L4 18.59l7.72-7.72 1.47 1.35L5.41 20z\"/>\n",
              "  </svg>\n",
              "      </button>\n",
              "      \n",
              "  <style>\n",
              "    .colab-df-container {\n",
              "      display:flex;\n",
              "      flex-wrap:wrap;\n",
              "      gap: 12px;\n",
              "    }\n",
              "\n",
              "    .colab-df-convert {\n",
              "      background-color: #E8F0FE;\n",
              "      border: none;\n",
              "      border-radius: 50%;\n",
              "      cursor: pointer;\n",
              "      display: none;\n",
              "      fill: #1967D2;\n",
              "      height: 32px;\n",
              "      padding: 0 0 0 0;\n",
              "      width: 32px;\n",
              "    }\n",
              "\n",
              "    .colab-df-convert:hover {\n",
              "      background-color: #E2EBFA;\n",
              "      box-shadow: 0px 1px 2px rgba(60, 64, 67, 0.3), 0px 1px 3px 1px rgba(60, 64, 67, 0.15);\n",
              "      fill: #174EA6;\n",
              "    }\n",
              "\n",
              "    [theme=dark] .colab-df-convert {\n",
              "      background-color: #3B4455;\n",
              "      fill: #D2E3FC;\n",
              "    }\n",
              "\n",
              "    [theme=dark] .colab-df-convert:hover {\n",
              "      background-color: #434B5C;\n",
              "      box-shadow: 0px 1px 3px 1px rgba(0, 0, 0, 0.15);\n",
              "      filter: drop-shadow(0px 1px 2px rgba(0, 0, 0, 0.3));\n",
              "      fill: #FFFFFF;\n",
              "    }\n",
              "  </style>\n",
              "\n",
              "      <script>\n",
              "        const buttonEl =\n",
              "          document.querySelector('#df-44e92930-a9a8-45af-ae5e-c4b6e968874f button.colab-df-convert');\n",
              "        buttonEl.style.display =\n",
              "          google.colab.kernel.accessAllowed ? 'block' : 'none';\n",
              "\n",
              "        async function convertToInteractive(key) {\n",
              "          const element = document.querySelector('#df-44e92930-a9a8-45af-ae5e-c4b6e968874f');\n",
              "          const dataTable =\n",
              "            await google.colab.kernel.invokeFunction('convertToInteractive',\n",
              "                                                     [key], {});\n",
              "          if (!dataTable) return;\n",
              "\n",
              "          const docLinkHtml = 'Like what you see? Visit the ' +\n",
              "            '<a target=\"_blank\" href=https://colab.research.google.com/notebooks/data_table.ipynb>data table notebook</a>'\n",
              "            + ' to learn more about interactive tables.';\n",
              "          element.innerHTML = '';\n",
              "          dataTable['output_type'] = 'display_data';\n",
              "          await google.colab.output.renderOutput(dataTable, element);\n",
              "          const docLink = document.createElement('div');\n",
              "          docLink.innerHTML = docLinkHtml;\n",
              "          element.appendChild(docLink);\n",
              "        }\n",
              "      </script>\n",
              "    </div>\n",
              "  </div>\n",
              "  "
            ]
          },
          "metadata": {},
          "execution_count": 1345
        }
      ]
    },
    {
      "cell_type": "markdown",
      "source": [
        "Normalizando os dados:"
      ],
      "metadata": {
        "id": "DUl26g60lj9B"
      }
    },
    {
      "cell_type": "code",
      "source": [
        "scaler = MinMaxScaler()\n",
        "normalized_data = scaler.fit_transform(college_df_to_normalize)\n",
        "normalized_data"
      ],
      "metadata": {
        "id": "EaNGZLrtY7RM",
        "colab": {
          "base_uri": "https://localhost:8080/"
        },
        "outputId": "66ec4365-1a3c-4881-8df9-4a8ddce901bd"
      },
      "execution_count": null,
      "outputs": [
        {
          "output_type": "execute_result",
          "data": {
            "text/plain": [
              "array([[0.03288693, 0.04417701, 0.10791254, ..., 0.1875    , 0.0726714 ,\n",
              "        0.46296296],\n",
              "       [0.04384229, 0.07053089, 0.07503539, ..., 0.25      , 0.13838671,\n",
              "        0.42592593],\n",
              "       [0.0280549 , 0.03903572, 0.04734938, ..., 0.46875   , 0.10460535,\n",
              "        0.40740741],\n",
              "       ...,\n",
              "       [0.04198863, 0.07018813, 0.10382256, ..., 0.3125    , 0.09683865,\n",
              "        0.36111111],\n",
              "       [0.22127341, 0.09067713, 0.20166745, ..., 0.765625  , 0.70126492,\n",
              "        0.82407407],\n",
              "       [0.06056693, 0.06790312, 0.10319333, ..., 0.4375    , 0.02494015,\n",
              "        0.82407407]])"
            ]
          },
          "metadata": {},
          "execution_count": 1346
        }
      ]
    },
    {
      "cell_type": "code",
      "source": [
        "college_df_normalized = pd.DataFrame(normalized_data, columns=college_df_to_normalize.columns)\n",
        "college_df_normalized.head()\n"
      ],
      "metadata": {
        "id": "kSYa35t9bARp",
        "colab": {
          "base_uri": "https://localhost:8080/"
        },
        "outputId": "5a43721f-059a-4546-fdba-1394427cdf65"
      },
      "execution_count": null,
      "outputs": [
        {
          "output_type": "execute_result",
          "data": {
            "text/plain": [
              "       Apps    Accept    Enroll  Top10perc  Top25perc  F.Undergrad  \\\n",
              "0  0.032887  0.044177  0.107913   0.231579   0.472527     0.087164   \n",
              "1  0.043842  0.070531  0.075035   0.157895   0.219780     0.080752   \n",
              "2  0.028055  0.039036  0.047349   0.221053   0.450549     0.028473   \n",
              "3  0.006998  0.010549  0.016045   0.621053   0.879121     0.011776   \n",
              "4  0.002333  0.002818  0.003146   0.157895   0.384615     0.003492   \n",
              "\n",
              "   P.Undergrad  Outstate  Room.Board     Books  Personal       PhD  Terminal  \\\n",
              "0     0.024548  0.263430    0.239596  0.157754  0.297710  0.652632  0.710526   \n",
              "1     0.056148  0.513430    0.736129  0.291444  0.190840  0.221053  0.078947   \n",
              "2     0.004488  0.460227    0.310530  0.135472  0.139695  0.473684  0.552632   \n",
              "3     0.002839  0.548554    0.578499  0.157754  0.095420  0.884211  0.960526   \n",
              "4     0.039753  0.269628    0.368852  0.313725  0.190840  0.715789  0.631579   \n",
              "\n",
              "   S.F.Ratio  perc.alumni    Expend  Grad.Rate  \n",
              "0   0.418231     0.187500  0.072671   0.462963  \n",
              "1   0.260054     0.250000  0.138387   0.425926  \n",
              "2   0.278820     0.468750  0.104605   0.407407  \n",
              "3   0.139410     0.578125  0.298415   0.453704  \n",
              "4   0.252011     0.031250  0.145833   0.046296  "
            ],
            "text/html": [
              "\n",
              "  <div id=\"df-3d577ec0-dd72-404b-b984-8eaa979f93b1\">\n",
              "    <div class=\"colab-df-container\">\n",
              "      <div>\n",
              "<style scoped>\n",
              "    .dataframe tbody tr th:only-of-type {\n",
              "        vertical-align: middle;\n",
              "    }\n",
              "\n",
              "    .dataframe tbody tr th {\n",
              "        vertical-align: top;\n",
              "    }\n",
              "\n",
              "    .dataframe thead th {\n",
              "        text-align: right;\n",
              "    }\n",
              "</style>\n",
              "<table border=\"1\" class=\"dataframe\">\n",
              "  <thead>\n",
              "    <tr style=\"text-align: right;\">\n",
              "      <th></th>\n",
              "      <th>Apps</th>\n",
              "      <th>Accept</th>\n",
              "      <th>Enroll</th>\n",
              "      <th>Top10perc</th>\n",
              "      <th>Top25perc</th>\n",
              "      <th>F.Undergrad</th>\n",
              "      <th>P.Undergrad</th>\n",
              "      <th>Outstate</th>\n",
              "      <th>Room.Board</th>\n",
              "      <th>Books</th>\n",
              "      <th>Personal</th>\n",
              "      <th>PhD</th>\n",
              "      <th>Terminal</th>\n",
              "      <th>S.F.Ratio</th>\n",
              "      <th>perc.alumni</th>\n",
              "      <th>Expend</th>\n",
              "      <th>Grad.Rate</th>\n",
              "    </tr>\n",
              "  </thead>\n",
              "  <tbody>\n",
              "    <tr>\n",
              "      <th>0</th>\n",
              "      <td>0.032887</td>\n",
              "      <td>0.044177</td>\n",
              "      <td>0.107913</td>\n",
              "      <td>0.231579</td>\n",
              "      <td>0.472527</td>\n",
              "      <td>0.087164</td>\n",
              "      <td>0.024548</td>\n",
              "      <td>0.263430</td>\n",
              "      <td>0.239596</td>\n",
              "      <td>0.157754</td>\n",
              "      <td>0.297710</td>\n",
              "      <td>0.652632</td>\n",
              "      <td>0.710526</td>\n",
              "      <td>0.418231</td>\n",
              "      <td>0.187500</td>\n",
              "      <td>0.072671</td>\n",
              "      <td>0.462963</td>\n",
              "    </tr>\n",
              "    <tr>\n",
              "      <th>1</th>\n",
              "      <td>0.043842</td>\n",
              "      <td>0.070531</td>\n",
              "      <td>0.075035</td>\n",
              "      <td>0.157895</td>\n",
              "      <td>0.219780</td>\n",
              "      <td>0.080752</td>\n",
              "      <td>0.056148</td>\n",
              "      <td>0.513430</td>\n",
              "      <td>0.736129</td>\n",
              "      <td>0.291444</td>\n",
              "      <td>0.190840</td>\n",
              "      <td>0.221053</td>\n",
              "      <td>0.078947</td>\n",
              "      <td>0.260054</td>\n",
              "      <td>0.250000</td>\n",
              "      <td>0.138387</td>\n",
              "      <td>0.425926</td>\n",
              "    </tr>\n",
              "    <tr>\n",
              "      <th>2</th>\n",
              "      <td>0.028055</td>\n",
              "      <td>0.039036</td>\n",
              "      <td>0.047349</td>\n",
              "      <td>0.221053</td>\n",
              "      <td>0.450549</td>\n",
              "      <td>0.028473</td>\n",
              "      <td>0.004488</td>\n",
              "      <td>0.460227</td>\n",
              "      <td>0.310530</td>\n",
              "      <td>0.135472</td>\n",
              "      <td>0.139695</td>\n",
              "      <td>0.473684</td>\n",
              "      <td>0.552632</td>\n",
              "      <td>0.278820</td>\n",
              "      <td>0.468750</td>\n",
              "      <td>0.104605</td>\n",
              "      <td>0.407407</td>\n",
              "    </tr>\n",
              "    <tr>\n",
              "      <th>3</th>\n",
              "      <td>0.006998</td>\n",
              "      <td>0.010549</td>\n",
              "      <td>0.016045</td>\n",
              "      <td>0.621053</td>\n",
              "      <td>0.879121</td>\n",
              "      <td>0.011776</td>\n",
              "      <td>0.002839</td>\n",
              "      <td>0.548554</td>\n",
              "      <td>0.578499</td>\n",
              "      <td>0.157754</td>\n",
              "      <td>0.095420</td>\n",
              "      <td>0.884211</td>\n",
              "      <td>0.960526</td>\n",
              "      <td>0.139410</td>\n",
              "      <td>0.578125</td>\n",
              "      <td>0.298415</td>\n",
              "      <td>0.453704</td>\n",
              "    </tr>\n",
              "    <tr>\n",
              "      <th>4</th>\n",
              "      <td>0.002333</td>\n",
              "      <td>0.002818</td>\n",
              "      <td>0.003146</td>\n",
              "      <td>0.157895</td>\n",
              "      <td>0.384615</td>\n",
              "      <td>0.003492</td>\n",
              "      <td>0.039753</td>\n",
              "      <td>0.269628</td>\n",
              "      <td>0.368852</td>\n",
              "      <td>0.313725</td>\n",
              "      <td>0.190840</td>\n",
              "      <td>0.715789</td>\n",
              "      <td>0.631579</td>\n",
              "      <td>0.252011</td>\n",
              "      <td>0.031250</td>\n",
              "      <td>0.145833</td>\n",
              "      <td>0.046296</td>\n",
              "    </tr>\n",
              "  </tbody>\n",
              "</table>\n",
              "</div>\n",
              "      <button class=\"colab-df-convert\" onclick=\"convertToInteractive('df-3d577ec0-dd72-404b-b984-8eaa979f93b1')\"\n",
              "              title=\"Convert this dataframe to an interactive table.\"\n",
              "              style=\"display:none;\">\n",
              "        \n",
              "  <svg xmlns=\"http://www.w3.org/2000/svg\" height=\"24px\"viewBox=\"0 0 24 24\"\n",
              "       width=\"24px\">\n",
              "    <path d=\"M0 0h24v24H0V0z\" fill=\"none\"/>\n",
              "    <path d=\"M18.56 5.44l.94 2.06.94-2.06 2.06-.94-2.06-.94-.94-2.06-.94 2.06-2.06.94zm-11 1L8.5 8.5l.94-2.06 2.06-.94-2.06-.94L8.5 2.5l-.94 2.06-2.06.94zm10 10l.94 2.06.94-2.06 2.06-.94-2.06-.94-.94-2.06-.94 2.06-2.06.94z\"/><path d=\"M17.41 7.96l-1.37-1.37c-.4-.4-.92-.59-1.43-.59-.52 0-1.04.2-1.43.59L10.3 9.45l-7.72 7.72c-.78.78-.78 2.05 0 2.83L4 21.41c.39.39.9.59 1.41.59.51 0 1.02-.2 1.41-.59l7.78-7.78 2.81-2.81c.8-.78.8-2.07 0-2.86zM5.41 20L4 18.59l7.72-7.72 1.47 1.35L5.41 20z\"/>\n",
              "  </svg>\n",
              "      </button>\n",
              "      \n",
              "  <style>\n",
              "    .colab-df-container {\n",
              "      display:flex;\n",
              "      flex-wrap:wrap;\n",
              "      gap: 12px;\n",
              "    }\n",
              "\n",
              "    .colab-df-convert {\n",
              "      background-color: #E8F0FE;\n",
              "      border: none;\n",
              "      border-radius: 50%;\n",
              "      cursor: pointer;\n",
              "      display: none;\n",
              "      fill: #1967D2;\n",
              "      height: 32px;\n",
              "      padding: 0 0 0 0;\n",
              "      width: 32px;\n",
              "    }\n",
              "\n",
              "    .colab-df-convert:hover {\n",
              "      background-color: #E2EBFA;\n",
              "      box-shadow: 0px 1px 2px rgba(60, 64, 67, 0.3), 0px 1px 3px 1px rgba(60, 64, 67, 0.15);\n",
              "      fill: #174EA6;\n",
              "    }\n",
              "\n",
              "    [theme=dark] .colab-df-convert {\n",
              "      background-color: #3B4455;\n",
              "      fill: #D2E3FC;\n",
              "    }\n",
              "\n",
              "    [theme=dark] .colab-df-convert:hover {\n",
              "      background-color: #434B5C;\n",
              "      box-shadow: 0px 1px 3px 1px rgba(0, 0, 0, 0.15);\n",
              "      filter: drop-shadow(0px 1px 2px rgba(0, 0, 0, 0.3));\n",
              "      fill: #FFFFFF;\n",
              "    }\n",
              "  </style>\n",
              "\n",
              "      <script>\n",
              "        const buttonEl =\n",
              "          document.querySelector('#df-3d577ec0-dd72-404b-b984-8eaa979f93b1 button.colab-df-convert');\n",
              "        buttonEl.style.display =\n",
              "          google.colab.kernel.accessAllowed ? 'block' : 'none';\n",
              "\n",
              "        async function convertToInteractive(key) {\n",
              "          const element = document.querySelector('#df-3d577ec0-dd72-404b-b984-8eaa979f93b1');\n",
              "          const dataTable =\n",
              "            await google.colab.kernel.invokeFunction('convertToInteractive',\n",
              "                                                     [key], {});\n",
              "          if (!dataTable) return;\n",
              "\n",
              "          const docLinkHtml = 'Like what you see? Visit the ' +\n",
              "            '<a target=\"_blank\" href=https://colab.research.google.com/notebooks/data_table.ipynb>data table notebook</a>'\n",
              "            + ' to learn more about interactive tables.';\n",
              "          element.innerHTML = '';\n",
              "          dataTable['output_type'] = 'display_data';\n",
              "          await google.colab.output.renderOutput(dataTable, element);\n",
              "          const docLink = document.createElement('div');\n",
              "          docLink.innerHTML = docLinkHtml;\n",
              "          element.appendChild(docLink);\n",
              "        }\n",
              "      </script>\n",
              "    </div>\n",
              "  </div>\n",
              "  "
            ]
          },
          "metadata": {},
          "execution_count": 1347
        }
      ]
    },
    {
      "cell_type": "markdown",
      "source": [
        "### Testando diferentes métodos para inicalização de K"
      ],
      "metadata": {
        "id": "dN1vayr63cLg"
      }
    },
    {
      "cell_type": "markdown",
      "source": [
        "#### Método do Cotovelo (Elbow)"
      ],
      "metadata": {
        "id": "tCqgMO3S4i1L"
      }
    },
    {
      "cell_type": "markdown",
      "source": [
        "Abaixo usamos o método Elbow para encontrar o melhor K admitindo valores de 1 a 10."
      ],
      "metadata": {
        "id": "gYHygc5ylRaj"
      }
    },
    {
      "cell_type": "code",
      "source": [
        "inertia = []\n",
        "k_range = range(2, 11)\n",
        "for k in k_range:\n",
        "    kmeans = KMeans(n_clusters=k, random_state=0,n_init=10).fit(normalized_data)\n",
        "    inertia.append(kmeans.inertia_)"
      ],
      "metadata": {
        "id": "ggGUBrS93mRx"
      },
      "execution_count": null,
      "outputs": []
    },
    {
      "cell_type": "code",
      "source": [
        "k_elbow = KneeLocator(x= k_range, y=inertia, curve=\"convex\", direction='decreasing').knee\n",
        "k_elbow"
      ],
      "metadata": {
        "id": "H-lLOhGbJucg",
        "colab": {
          "base_uri": "https://localhost:8080/"
        },
        "outputId": "437232e1-6eae-4e36-f00e-f2029f4385a9"
      },
      "execution_count": null,
      "outputs": [
        {
          "output_type": "execute_result",
          "data": {
            "text/plain": [
              "5"
            ]
          },
          "metadata": {},
          "execution_count": 1349
        }
      ]
    },
    {
      "cell_type": "code",
      "source": [
        "plt.plot(k_range, inertia, '-o')\n",
        "plt.title('Método Elbow')\n",
        "plt.xlabel('Número de clusters')\n",
        "plt.ylabel('Inércia')\n",
        "plt.xticks(k_range)\n",
        "plt.vlines(x=k_elbow, ymin=min(inertia), ymax=max(inertia), color=\"red\")\n",
        "plt.show()"
      ],
      "metadata": {
        "colab": {
          "base_uri": "https://localhost:8080/"
        },
        "id": "am8kHp40gWgR",
        "outputId": "fdbdd129-7825-4256-9577-2e6379813e14"
      },
      "execution_count": null,
      "outputs": [
        {
          "output_type": "display_data",
          "data": {
            "text/plain": [
              "<Figure size 640x480 with 1 Axes>"
            ],
            "image/png": "[encoded data removed]"
          },
          "metadata": {}
        }
      ]
    },
    {
      "cell_type": "markdown",
      "source": [
        "Temos que o melhor valor para K seria 5 a partir do método do cotovelo"
      ],
      "metadata": {
        "id": "JM2IaCvsfHAL"
      }
    },
    {
      "cell_type": "markdown",
      "source": [
        "####Calinski-Harabasz"
      ],
      "metadata": {
        "id": "b9wpcg8y4tMj"
      }
    },
    {
      "cell_type": "code",
      "source": [
        "# Calcular o índice Calinski-Harabasz para diferentes valores de k\n",
        "scores = []\n",
        "k_range = range(2, 11)\n",
        "for k in k_range:\n",
        "    kmeans = KMeans(n_clusters=k, random_state=0, n_init=10).fit(normalized_data)\n",
        "    score = calinski_harabasz_score(normalized_data, kmeans.labels_)\n",
        "    scores.append(score)"
      ],
      "metadata": {
        "id": "glGuK1rH4xrq"
      },
      "execution_count": null,
      "outputs": []
    },
    {
      "cell_type": "code",
      "source": [
        "best_n_clusters = 2 + scores.index(max(scores))"
      ],
      "metadata": {
        "id": "lR1aaegGJKk1"
      },
      "execution_count": null,
      "outputs": []
    },
    {
      "cell_type": "code",
      "source": [
        "# Plotar o gráfico do índice Calinski-Harabasz em função do número de clusters\n",
        "plt.plot(k_range, scores, '-o')\n",
        "plt.xlabel('Número de clusters')\n",
        "plt.ylabel('Índice Calinski-Harabasz')\n",
        "plt.title('Método Calinski-Harabasz')\n",
        "plt.vlines(x=best_n_clusters, ymin=min(scores), ymax=max(scores), color=\"red\")\n",
        "plt.show()"
      ],
      "metadata": {
        "colab": {
          "base_uri": "https://localhost:8080/"
        },
        "id": "d99D8ryKGc_V",
        "outputId": "170f974d-016e-46a8-95e8-89864cdc0918"
      },
      "execution_count": null,
      "outputs": [
        {
          "output_type": "display_data",
          "data": {
            "text/plain": [
              "<Figure size 640x480 with 1 Axes>"
            ],
            "image/png": "[encoded data removed]"
          },
          "metadata": {}
        }
      ]
    },
    {
      "cell_type": "markdown",
      "source": [
        "- Fazendo uma análise da curva do gráfico observamos que o índice Calinski-Harabasz atinge valor máximo em K igual a 2."
      ],
      "metadata": {
        "id": "9vvj48B-f0CM"
      }
    },
    {
      "cell_type": "markdown",
      "source": [
        "####Davies-Bouldin"
      ],
      "metadata": {
        "id": "P1u3EpHw4yGo"
      }
    },
    {
      "cell_type": "code",
      "source": [
        "# Calculando o índice Davies-Bouldin para cada valor de k\n",
        "scores = []\n",
        "k_range = range(2, 11)\n",
        "for k in k_range:\n",
        "    kmeans = KMeans(n_clusters=k, random_state=0, n_init=10).fit(normalized_data)\n",
        "    score = davies_bouldin_score(normalized_data, kmeans.labels_)\n",
        "    scores.append(score)"
      ],
      "metadata": {
        "id": "6exfl4cM5BK0"
      },
      "execution_count": null,
      "outputs": []
    },
    {
      "cell_type": "code",
      "source": [
        "k_Davies_Bouldin = 2 + scores.index(min(scores))"
      ],
      "metadata": {
        "id": "jQ3HhKJRNIa9"
      },
      "execution_count": null,
      "outputs": []
    },
    {
      "cell_type": "code",
      "source": [
        "# Plotar o gráfico do índice Davies-Bouldin em função do número de clusters\n",
        "plt.plot(k_range, scores, '-o')\n",
        "plt.xlabel('Número de clusters')\n",
        "plt.ylabel('Índice Davies-Bouldin')\n",
        "plt.title('Método Davies-Bouldin')\n",
        "plt.vlines(x=k_Davies_Bouldin, ymin=min(scores), ymax=max(scores), color=\"red\")\n",
        "plt.show()"
      ],
      "metadata": {
        "colab": {
          "base_uri": "https://localhost:8080/"
        },
        "id": "mszteTW0ciU-",
        "outputId": "8bd6a255-77cf-45a4-92f0-f062ddf9afeb"
      },
      "execution_count": null,
      "outputs": [
        {
          "output_type": "display_data",
          "data": {
            "text/plain": [
              "<Figure size 640x480 with 1 Axes>"
            ],
            "image/png": "[encoded data removed]"
          },
          "metadata": {}
        }
      ]
    },
    {
      "cell_type": "markdown",
      "source": [
        "Fazendo uma análise da curva do gráfico observamos que o índice de Davies-Bouldin atinge valor mínimo em K igual a 3."
      ],
      "metadata": {
        "id": "DFblCSL1g8-O"
      }
    },
    {
      "cell_type": "markdown",
      "source": [
        "####Silhouette"
      ],
      "metadata": {
        "id": "2K0JPTSW41mx"
      }
    },
    {
      "cell_type": "code",
      "source": [
        "# Calculando o índice Silhouette para cada valor de k\n",
        "scores = []\n",
        "k_range = range(2, 11)\n",
        "for k in k_range:\n",
        "    kmeans = KMeans(n_clusters=k, random_state=0, n_init = 10).fit(normalized_data)\n",
        "    score = silhouette_score(normalized_data, kmeans.labels_)\n",
        "    scores.append(score)"
      ],
      "metadata": {
        "id": "i0ItNvrv5CCB"
      },
      "execution_count": null,
      "outputs": []
    },
    {
      "cell_type": "code",
      "source": [
        "k_Silhouette = 2 + scores.index(max(scores))"
      ],
      "metadata": {
        "id": "pH-u1MDcOS_v"
      },
      "execution_count": null,
      "outputs": []
    },
    {
      "cell_type": "code",
      "source": [
        "# Plotar o gráfico do índice Silhouette em função do número de clusters\n",
        "plt.plot(k_range, scores, '-o')\n",
        "plt.xlabel('Número de clusters')\n",
        "plt.ylabel('Índice Silhouette')\n",
        "plt.title('Método Silhouette')\n",
        "plt.vlines(x=k_Silhouette, ymin=min(scores), ymax=max(scores), color=\"red\")\n",
        "plt.show()"
      ],
      "metadata": {
        "colab": {
          "base_uri": "https://localhost:8080/"
        },
        "id": "k_Q-v6W0p0eS",
        "outputId": "2ec3f3f3-b4f8-4b87-fa3a-b587ba6f6962"
      },
      "execution_count": null,
      "outputs": [
        {
          "output_type": "display_data",
          "data": {
            "text/plain": [
              "<Figure size 640x480 with 1 Axes>"
            ],
            "image/png": "[encoded data removed]"
          },
          "metadata": {}
        }
      ]
    },
    {
      "cell_type": "markdown",
      "source": [
        "- Fazendo uma análise da curva do gráfico observamos que o índice de Silhouette atinge valor máximo em K igual a 2.\n",
        "\n",
        "\n"
      ],
      "metadata": {
        "id": "_FyEuGRoEgK9"
      }
    },
    {
      "cell_type": "markdown",
      "source": [
        "####BIC"
      ],
      "metadata": {
        "id": "zbO7ULOq464T"
      }
    },
    {
      "cell_type": "code",
      "source": [
        "from scipy.stats import multivariate_normal\n",
        "\n",
        "# Calculando o critério BIC para cada valor de k\n",
        "k_range = range(2, 11)\n",
        "scores = []\n",
        "for k in k_range:\n",
        "    kmeans = KMeans(n_clusters=k, random_state=0, n_init=10).fit(normalized_data)\n",
        "    bic = 0\n",
        "\n",
        "    for i in range(k):\n",
        "      cluster = normalized_data[kmeans.labels_ == i]\n",
        "      num_params = len(cluster[0])*k + k\n",
        "      likelihood = np.sum(multivariate_normal.logpdf(cluster, kmeans.cluster_centers_[i], np.cov(cluster.T)))\n",
        "\n",
        "      bic += likelihood - 0.5 * num_params * np.log(len(cluster))\n",
        "\n",
        "    scores.append(bic)"
      ],
      "metadata": {
        "id": "uD7lIqmU5DLA"
      },
      "execution_count": null,
      "outputs": []
    },
    {
      "cell_type": "code",
      "source": [
        "k_Bic = 2 + scores.index(max(scores))"
      ],
      "metadata": {
        "id": "UYqDI6E3PnG9"
      },
      "execution_count": null,
      "outputs": []
    },
    {
      "cell_type": "code",
      "source": [
        "# Plotando o gráfico do critério BIC em função do número de componentes\n",
        "plt.plot(k_range, scores,'-o')\n",
        "plt.xlabel('Número de clusters')\n",
        "plt.ylabel('Critério BIC')\n",
        "plt.title('Método BIC')\n",
        "plt.vlines(x=k_Bic, ymin=min(scores), ymax=max(scores), color=\"red\")\n",
        "plt.show()"
      ],
      "metadata": {
        "colab": {
          "base_uri": "https://localhost:8080/"
        },
        "id": "E1wvefcjy5dZ",
        "outputId": "0eff411a-8605-4243-93d8-85c6a14b4597"
      },
      "execution_count": null,
      "outputs": [
        {
          "output_type": "display_data",
          "data": {
            "text/plain": [
              "<Figure size 640x480 with 1 Axes>"
            ],
            "image/png": "[encoded data removed]"
          },
          "metadata": {}
        }
      ]
    },
    {
      "cell_type": "markdown",
      "source": [
        "- Fazendo uma análise da curva do gráfico observamos que o critério de BIC atinge valor máximo em K igual a 6.\n",
        "\n"
      ],
      "metadata": {
        "id": "bm_o3xK9VbK2"
      }
    },
    {
      "cell_type": "markdown",
      "source": [
        "### 🛠️ Agrupando com K-means"
      ],
      "metadata": {
        "id": "qFbcfzaR_lWW"
      }
    },
    {
      "cell_type": "code",
      "source": [
        "# Especificando parâmetros\n",
        "k = 2\n",
        "RANDOM_STATE = 42\n",
        "N_INIT = 1\n",
        "MAX_ITER = 20 # para essa base dados os resultados convergem a partir de 10 interações"
      ],
      "metadata": {
        "id": "R7znfxG24B-T"
      },
      "execution_count": null,
      "outputs": []
    },
    {
      "cell_type": "markdown",
      "source": [
        "####Encontrando centróides iniciais randomicamente e executando K-means apenas 1 vez"
      ],
      "metadata": {
        "id": "-1-PrStpvzPG"
      }
    },
    {
      "cell_type": "code",
      "source": [
        "# Executando K-Means apenas 1 vez\n",
        "t0 = time()\n",
        "kmeans = KMeans(n_clusters=k, init='random', random_state=RANDOM_STATE, n_init=1, max_iter=1)\n",
        "kmeans.fit(normalized_data)\n",
        "t1 = time()\n",
        "time_kmeans = t1 - t0"
      ],
      "metadata": {
        "id": "Dc8GEAAdiYWI"
      },
      "execution_count": null,
      "outputs": []
    },
    {
      "cell_type": "code",
      "source": [
        "# Calculando distâncias intra_cluster e inter-cluster \n",
        "intra_cluster_distance = sum([np.sum((normalized_data[kmeans.labels_ == i] - kmeans.cluster_centers_[i]) ** 2) for i in range(kmeans.n_clusters)])\n",
        "inter_cluster_distance = kmeans.inertia_ - intra_cluster_distance\n",
        "silhouette_avg = silhouette_score(normalized_data, kmeans.labels_)"
      ],
      "metadata": {
        "id": "IWd_q3L7p-h2"
      },
      "execution_count": null,
      "outputs": []
    },
    {
      "cell_type": "code",
      "source": [
        "# Imprimindo resultados\n",
        "print(\"\\n\\t\\t\\t\\tK-Means\\n\")\n",
        "print(\"Tempo Execução: \\t\\t{:.4f}s\".format(time_kmeans))\n",
        "print(\"Distância Intra-cluster: \\t{:.4f}\".format(intra_cluster_distance))\n",
        "print(\"Distância Inter-cluster: \\t{:.4f}\".format(inter_cluster_distance))\n",
        "print(\"Silhouette Score: \\t\\t{:.4f}\".format(silhouette_avg))"
      ],
      "metadata": {
        "colab": {
          "base_uri": "https://localhost:8080/"
        },
        "id": "47reIFgSX4_R",
        "outputId": "6cd63939-9dc6-411d-caab-4e2886b44669"
      },
      "execution_count": null,
      "outputs": [
        {
          "output_type": "stream",
          "name": "stdout",
          "text": [
            "\n",
            "\t\t\t\tK-Means\n",
            "\n",
            "Tempo Execução: \t\t0.0044s\n",
            "Distância Intra-cluster: \t235.1405\n",
            "Distância Inter-cluster: \t-0.0000\n",
            "Silhouette Score: \t\t0.2192\n"
          ]
        }
      ]
    },
    {
      "cell_type": "markdown",
      "source": [
        "Essa aleatoriedade de escolher pontos k-centróides resulta no problema de sensibilidade de inicialização. Este problema tende a afetar os agrupamentos finais formados. Já que os clusters formados finais dependem de como os centróides iniciais foram escolhidos."
      ],
      "metadata": {
        "id": "bSQAWpQKxzge"
      }
    },
    {
      "cell_type": "markdown",
      "source": [
        "####Encontrando centróides iniciais aplicando K-means repetidas vezes: \n",
        "\n",
        "- Repetimos o algoritmo e a inicialização dos centróides várias vezes como forma de diminuir a dependência da escolha dos centróides inicias."
      ],
      "metadata": {
        "id": "PdiRKSklwbBu"
      }
    },
    {
      "cell_type": "code",
      "source": [
        "# Executando K-Means repedidas vezes\n",
        "t0 = time()\n",
        "kmeans_repeat = KMeans(n_clusters=k, init='random', random_state=RANDOM_STATE, n_init=N_INIT, max_iter=MAX_ITER)\n",
        "kmeans_repeat.fit(normalized_data)\n",
        "t1 = time()\n",
        "time_kmeans_repeat = t1 - t0"
      ],
      "metadata": {
        "id": "SFzn2RcHydhs"
      },
      "execution_count": null,
      "outputs": []
    },
    {
      "cell_type": "code",
      "source": [
        "# Calculando distâncias intra_cluster e inter-cluster \n",
        "intra_cluster_distance_repeat = sum([np.sum((normalized_data[kmeans_repeat.labels_ == i] - kmeans_repeat.cluster_centers_[i]) ** 2) for i in range(kmeans_repeat.n_clusters)])\n",
        "inter_cluster_distance_repeat = kmeans_repeat.inertia_ - intra_cluster_distance_repeat\n",
        "silhouette_avg_repeat = silhouette_score(normalized_data, kmeans_repeat.labels_)"
      ],
      "metadata": {
        "id": "R60ACJnmp0N_"
      },
      "execution_count": null,
      "outputs": []
    },
    {
      "cell_type": "code",
      "source": [
        "# Imprimindo resultados\n",
        "print(\"\\n\\t\\t\\t\\tK-Means R\\n\")\n",
        "print(\"Tempo de Execução: \\t\\t{:.4f}s\".format(time_kmeans_repeat))\n",
        "print(\"Distância Intra-cluster: \\t{:.4f}\".format(intra_cluster_distance_repeat))\n",
        "print(\"Distância Inter-cluster: \\t{:.4f}\".format(inter_cluster_distance_repeat))\n",
        "print(\"Silhouette Score: \\t\\t{:.4f}\".format(silhouette_avg_repeat))"
      ],
      "metadata": {
        "colab": {
          "base_uri": "https://localhost:8080/"
        },
        "id": "6iOg2rn1hMAz",
        "outputId": "1c9e9d2e-3f64-4440-d98c-2025b16458e9"
      },
      "execution_count": null,
      "outputs": [
        {
          "output_type": "stream",
          "name": "stdout",
          "text": [
            "\n",
            "\t\t\t\tK-Means R\n",
            "\n",
            "Tempo de Execução: \t\t0.0075s\n",
            "Distância Intra-cluster: \t215.7817\n",
            "Distância Inter-cluster: \t-0.0000\n",
            "Silhouette Score: \t\t0.2612\n"
          ]
        }
      ]
    },
    {
      "cell_type": "markdown",
      "source": [
        "####Encontrando centróides usando K-Means++: \n",
        "- K-Means++ é uma técnica inteligente de inicialização de centróide."
      ],
      "metadata": {
        "id": "xs3SVeqVxDL1"
      }
    },
    {
      "cell_type": "code",
      "source": [
        "# Executando K-Means++\n",
        "t0 = time()\n",
        "kmeans_plusplus = KMeans(n_clusters=k, init='k-means++', random_state=RANDOM_STATE, n_init=N_INIT, max_iter=MAX_ITER)\n",
        "kmeans_plusplus.fit(normalized_data)\n",
        "t1 = time()\n",
        "time_kmeans_plusplus = t1 - t0"
      ],
      "metadata": {
        "id": "kk_jHkJ7a9vl"
      },
      "execution_count": null,
      "outputs": []
    },
    {
      "cell_type": "code",
      "source": [
        "# Calculando distâncias intra_cluster e inter-cluster\n",
        "intra_cluster_distance_plusplus = sum([np.sum((normalized_data[kmeans_plusplus.labels_ == i] - kmeans_plusplus.cluster_centers_[i]) ** 2) for i in range(kmeans_plusplus.n_clusters)])\n",
        "inter_cluster_distance_plusplus = kmeans_plusplus.inertia_ - intra_cluster_distance_plusplus\n",
        "silhouette_avg_plusplus = silhouette_score(normalized_data, kmeans_plusplus.labels_)"
      ],
      "metadata": {
        "id": "weeOOruhrm1l"
      },
      "execution_count": null,
      "outputs": []
    },
    {
      "cell_type": "code",
      "source": [
        "# Imprimindo resultados\n",
        "print(\"\\n\\t\\t\\t\\tK-Means++\\n\")\n",
        "print(\"Tempo Execução: \\t\\t{:.4f}s\".format(time_kmeans_plusplus))\n",
        "print(\"Distância Intra-cluster: \\t{:.4f}\".format(intra_cluster_distance_plusplus))\n",
        "print(\"Distância Inter-cluster: \\t{:.4f}\".format(inter_cluster_distance_plusplus))\n",
        "print(\"Silhouette Score: \\t\\t{:.4f}\".format(silhouette_avg_plusplus))\n",
        "\n",
        "print(kmeans_plusplus.inertia_)"
      ],
      "metadata": {
        "colab": {
          "base_uri": "https://localhost:8080/"
        },
        "id": "RNFMqhSYg4A0",
        "outputId": "0414212b-9ad8-4ec6-ff07-280d1e75fff1"
      },
      "execution_count": null,
      "outputs": [
        {
          "output_type": "stream",
          "name": "stdout",
          "text": [
            "\n",
            "\t\t\t\tK-Means++\n",
            "\n",
            "Tempo Execução: \t\t0.0048s\n",
            "Distância Intra-cluster: \t215.7761\n",
            "Distância Inter-cluster: \t0.0000\n",
            "Silhouette Score: \t\t0.2618\n",
            "215.7760928652704\n"
          ]
        }
      ]
    },
    {
      "cell_type": "code",
      "source": [
        "# Comparando resultados\n",
        "print(\"\\n\\t\\t\\t\\tK-Means 1\\t\\tK-Means R\\t\\tK-Means++\\n\")\n",
        "print(\"Tempo Execução: \\t\\t{:.4f}s\\t\\t\\t{:.4f}s \\t\\t{:.4f}s\".format(time_kmeans, time_kmeans_repeat, time_kmeans_plusplus))\n",
        "print(\"Distância Intra-cluster: \\t{:.4f}\\t\\t{:.4f}\\t\\t{:.4f}\".format(intra_cluster_distance, intra_cluster_distance_repeat, intra_cluster_distance_plusplus))\n",
        "print(\"Distância Inter-cluster: \\t{:.4f}\\t\\t\\t{:.4f}\\t\\t\\t{:.4f}\".format(inter_cluster_distance, inter_cluster_distance_repeat, inter_cluster_distance_plusplus))\n",
        "print(\"Silhouette Score: \\t\\t{:.4f}\\t\\t\\t{:.4f}\\t\\t\\t{:.4f}\".format(silhouette_avg, silhouette_avg_repeat, silhouette_avg_plusplus))"
      ],
      "metadata": {
        "colab": {
          "base_uri": "https://localhost:8080/"
        },
        "id": "yeVd-LUEfZSi",
        "outputId": "7788b7be-2afe-497a-c3ff-3a573a62fd5e"
      },
      "execution_count": null,
      "outputs": [
        {
          "output_type": "stream",
          "name": "stdout",
          "text": [
            "\n",
            "\t\t\t\tK-Means 1\t\tK-Means R\t\tK-Means++\n",
            "\n",
            "Tempo Execução: \t\t0.0044s\t\t\t0.0075s \t\t0.0048s\n",
            "Distância Intra-cluster: \t235.1405\t\t215.7817\t\t215.7761\n",
            "Distância Inter-cluster: \t-0.0000\t\t\t-0.0000\t\t\t0.0000\n",
            "Silhouette Score: \t\t0.2192\t\t\t0.2612\t\t\t0.2618\n"
          ]
        }
      ]
    },
    {
      "cell_type": "markdown",
      "source": [
        "### 🛠️ Agrupando com K-medoids"
      ],
      "metadata": {
        "id": "xcTLyj062vww"
      }
    },
    {
      "cell_type": "code",
      "source": [
        "# Treinando K-Medoids\n",
        "t0 = time()\n",
        "kmedoids = KMedoids(n_clusters=2, random_state=RANDOM_STATE, max_iter=MAX_ITER)\n",
        "kmedoids.fit(normalized_data)\n",
        "t1 = time()\n",
        "\n",
        "# Calculando tempo de execução\n",
        "time_kmedoids = t1 - t0\n",
        "\n",
        "# Calculando distâncias intra e inter cluster\n",
        "intra_cluster_distance_kmedoids = sum([np.sum((normalized_data[kmedoids.labels_ == i] - kmedoids.cluster_centers_[i]) ** 2) for i in range(kmedoids.n_clusters)])\n",
        "inter_cluster_distance_kmedoids = kmedoids.inertia_ - intra_cluster_distance_kmedoids\n",
        "silhouette_avg_kmedoids = silhouette_score(normalized_data, kmedoids.labels_)"
      ],
      "metadata": {
        "id": "UyswxNSw3bNc"
      },
      "execution_count": null,
      "outputs": []
    },
    {
      "cell_type": "markdown",
      "source": [
        "###🛠️ Comparando K-means com K-medoids"
      ],
      "metadata": {
        "id": "NiLvoD1YiTcf"
      }
    },
    {
      "cell_type": "code",
      "source": [
        "# Comparando resultados\n",
        "print(\"\\n\\t\\t\\t\\tK-Means 1\\tK-Means R\\tK-Means++ \\tK-Menoids\\n\")\n",
        "print(\"Tempo Execução: \\t\\t{:.4f}s\\t\\t{:.4f}s \\t{:.4f}s \\t{:.4f}s\".format(time_kmeans, time_kmeans_repeat, time_kmeans_plusplus, time_kmedoids))\n",
        "print(\"Distância Intra-cluster: \\t{:.4f}\\t{:.4f}\\t{:.4f}\\t{:.4f}\".format(intra_cluster_distance, intra_cluster_distance_repeat, intra_cluster_distance_plusplus, intra_cluster_distance_kmedoids))\n",
        "print(\"Distância Inter-cluster: \\t{:.4f}\\t\\t{:.4f}\\t\\t{:.4f}\\t\\t{:.4f}\".format(inter_cluster_distance, inter_cluster_distance_repeat, inter_cluster_distance_plusplus, inter_cluster_distance_kmedoids))\n",
        "print(\"Silhouette Score: \\t\\t{:.4f}\\t\\t{:.4f}\\t\\t{:.4f}\\t\\t{:.4f}\".format(silhouette_avg, silhouette_avg_repeat, silhouette_avg_plusplus, silhouette_avg_kmedoids))"
      ],
      "metadata": {
        "colab": {
          "base_uri": "https://localhost:8080/"
        },
        "id": "N8OSy3MiiT7I",
        "outputId": "a1778195-64ef-45af-8468-9d5ea60e8ee5"
      },
      "execution_count": null,
      "outputs": [
        {
          "output_type": "stream",
          "name": "stdout",
          "text": [
            "\n",
            "\t\t\t\tK-Means 1\tK-Means R\tK-Means++ \tK-Menoids\n",
            "\n",
            "Tempo Execução: \t\t0.0044s\t\t0.0075s \t0.0048s \t0.0401s\n",
            "Distância Intra-cluster: \t235.1405\t215.7817\t215.7761\t244.5338\n",
            "Distância Inter-cluster: \t-0.0000\t\t-0.0000\t\t0.0000\t\t158.9361\n",
            "Silhouette Score: \t\t0.2192\t\t0.2612\t\t0.2618\t\t0.2457\n"
          ]
        }
      ]
    },
    {
      "cell_type": "markdown",
      "source": [
        "K-Means 1\tK-Means R\tK-Means++ \tK-Menoids\n",
        "\n",
        "Tempo Execução: \t\t0.0906s\t\t5.1915s \t4.0885s \t0.1134s\n",
        "Distância Intra-cluster: \t215.7817\t215.7699\t215.7696\t244.5338\n",
        "Distância Inter-cluster: \t-0.0000\t\t-0.0000\t\t-0.0000\t\t158.9361\n",
        "Silhouette Score: \t\t0.2612\t\t0.2622\t\t0.2620\t\t0.2457"
      ],
      "metadata": {
        "id": "Icn94mlO8pyB"
      }
    },
    {
      "cell_type": "markdown",
      "source": [
        "###Consultando aos Clusters"
      ],
      "metadata": {
        "id": "R9JRgzxq51H0"
      }
    },
    {
      "cell_type": "code",
      "source": [
        "# Adição dos rótulos de cluster ao dataframe\n",
        "labels = kmeans_plusplus.labels_\n",
        "college_df_normalized['Cluster'] = labels\n",
        "\n",
        "# Calculando a correlação de Pearson entre a coluna Cluster e as outras colunas\n",
        "correlation = college_df_normalized.corrwith(college_df_normalized['Cluster'], method='pearson')\n",
        "\n",
        "# Imprimindo as correlações\n",
        "print(correlation)"
      ],
      "metadata": {
        "id": "JUmuHexN_LF_",
        "colab": {
          "base_uri": "https://localhost:8080/"
        },
        "outputId": "a49925f1-ae32-4428-af32-da3288d6ef3d"
      },
      "execution_count": null,
      "outputs": [
        {
          "output_type": "stream",
          "name": "stdout",
          "text": [
            "Apps           0.245538\n",
            "Accept         0.194207\n",
            "Enroll         0.112472\n",
            "Top10perc      0.672709\n",
            "Top25perc      0.682093\n",
            "F.Undergrad    0.061641\n",
            "P.Undergrad   -0.140613\n",
            "Outstate       0.671480\n",
            "Room.Board     0.478175\n",
            "Books          0.076011\n",
            "Personal      -0.186560\n",
            "PhD            0.575211\n",
            "Terminal       0.576290\n",
            "S.F.Ratio     -0.370059\n",
            "perc.alumni    0.508286\n",
            "Expend         0.544036\n",
            "Grad.Rate      0.527491\n",
            "Cluster        1.000000\n",
            "Private       -0.224734\n",
            "dtype: float64\n"
          ]
        }
      ]
    },
    {
      "cell_type": "markdown",
      "source": [
        "**Como estão distribuídas as universidades públicas e privadas entre os clusters?**"
      ],
      "metadata": {
        "id": "UABNibFNa9go"
      }
    },
    {
      "cell_type": "markdown",
      "source": [
        "Antes é necessário converter os dados da coluna 'Private' de string para valor numérico.\n",
        "\n",
        "Private (Yes = 0, No = 1)"
      ],
      "metadata": {
        "id": "dYoAgJtAXObr"
      }
    },
    {
      "cell_type": "code",
      "source": [
        "college_df_normalized['Private'] = labels_private.map({\"Yes\": 0, \"No\": 1})"
      ],
      "metadata": {
        "id": "xo3RyxRFcydH"
      },
      "execution_count": null,
      "outputs": []
    },
    {
      "cell_type": "code",
      "source": [
        "z= sns.histplot(data=college_df_normalized, x='Cluster', color = \"black\", label = 'Clusters')\n",
        "z= sns.histplot(data=college_df_normalized, x='Private', color = \"white\", binwidth = 0.05, label = 'Private')\n",
        "z.set_xlabel(\"Private & Cluster\")\n",
        "z.set_ylabel(\"Número de Universidades\")\n",
        "plt.legend()\n",
        "plt.show()"
      ],
      "metadata": {
        "colab": {
          "base_uri": "https://localhost:8080/",
          "height": 449
        },
        "id": "xHV2jrnBFwbz",
        "outputId": "e44427ca-f400-427d-a358-6be8a5dafe95"
      },
      "execution_count": null,
      "outputs": [
        {
          "output_type": "display_data",
          "data": {
            "text/plain": [
              "<Figure size 640x480 with 1 Axes>"
            ],
            "image/png": "[encoded data removed]"
          },
          "metadata": {}
        }
      ]
    },
    {
      "cell_type": "markdown",
      "source": [
        "### Usando base de dados reduzida para 2 dimenssões"
      ],
      "metadata": {
        "id": "tlbK64Q6AHi6"
      }
    },
    {
      "cell_type": "code",
      "source": [
        "# Reduz a dimensionalidade dos dados para 2 dimensões usando PCA\n",
        "pca = PCA(n_components=2)\n",
        "X_pca = pca.fit_transform(normalized_data)"
      ],
      "metadata": {
        "id": "qRIpPO-EI7-m"
      },
      "execution_count": null,
      "outputs": []
    },
    {
      "cell_type": "code",
      "source": [
        "Kmeans(k, 'random', RANDOM_STATE,N_INIT, MAX_ITER, X_pca)"
      ],
      "metadata": {
        "colab": {
          "base_uri": "https://localhost:8080/"
        },
        "id": "aSD9_wtILomd",
        "outputId": "35b79e2b-3aeb-449f-83e3-bde2b2bef400"
      },
      "execution_count": null,
      "outputs": [
        {
          "output_type": "stream",
          "name": "stdout",
          "text": [
            "\n",
            "\t\t\t\tK-Means PCA\n",
            "\n",
            "Tempo de Execução: \t\t0.01s\n",
            "Distância Intra-cluster: \t106.19\n",
            "Distância Inter-cluster: \t0.42\n"
          ]
        }
      ]
    },
    {
      "cell_type": "markdown",
      "source": [
        "####Visualizando Clusters"
      ],
      "metadata": {
        "id": "o0ZnJEywJWMr"
      }
    },
    {
      "cell_type": "code",
      "source": [
        "labels = kmeans_pca.labels_\n",
        "centroids = kmeans_pca.cluster_centers_"
      ],
      "metadata": {
        "id": "rAXfYfVqJsSi"
      },
      "execution_count": null,
      "outputs": []
    },
    {
      "cell_type": "code",
      "source": [
        "# selecionando a segunda e última coluna do array de dados\n",
        "x = X_pca[:, 0]\n",
        "y = X_pca[:, 1]"
      ],
      "metadata": {
        "id": "xIpPMPDeIwuC"
      },
      "execution_count": null,
      "outputs": []
    },
    {
      "cell_type": "code",
      "source": [
        "# Plota os pontos coloridos pelos clusters\n",
        "plt.scatter(x,y, c=labels)\n",
        "\n",
        "# Plota os centróides em vermelho\n",
        "plt.scatter(centroids[:, 0], centroids[:, 1], marker='*', s=200, linewidths=1, color='r')\n",
        "\n",
        "# Mostra o gráfico\n",
        "plt.show()"
      ],
      "metadata": {
        "colab": {
          "base_uri": "https://localhost:8080/",
          "height": 430
        },
        "outputId": "007ef499-141a-4099-d319-79352ad829a5",
        "id": "QaFNlHgRIwuD"
      },
      "execution_count": null,
      "outputs": [
        {
          "output_type": "display_data",
          "data": {
            "text/plain": [
              "<Figure size 640x480 with 1 Axes>"
            ],
            "image/png": "[encoded data removed]"
          },
          "metadata": {}
        }
      ]
    },
    {
      "cell_type": "markdown",
      "source": [
        "##**Análise supervisionada**"
      ],
      "metadata": {
        "id": "J3lfH0je1pFD"
      }
    },
    {
      "cell_type": "code",
      "source": [
        "college_df_normalized_supervisioned = college_df_normalized.copy()"
      ],
      "metadata": {
        "id": "S8LdVgvU0Dey"
      },
      "execution_count": null,
      "outputs": []
    },
    {
      "cell_type": "code",
      "source": [
        "college_df_normalized_supervisioned.drop(['Cluster'], axis=1, inplace=True)"
      ],
      "metadata": {
        "id": "mmIcMAiN66PP"
      },
      "execution_count": null,
      "outputs": []
    },
    {
      "cell_type": "code",
      "source": [
        "college_df_normalized.head()"
      ],
      "metadata": {
        "colab": {
          "base_uri": "https://localhost:8080/"
        },
        "id": "psQ-lql0zAw5",
        "outputId": "270d6e52-a105-4d33-ed48-c3eef474cd86"
      },
      "execution_count": null,
      "outputs": [
        {
          "output_type": "execute_result",
          "data": {
            "text/plain": [
              "       Apps    Accept    Enroll  Top10perc  Top25perc  F.Undergrad  \\\n",
              "0  0.032887  0.044177  0.107913   0.231579   0.472527     0.087164   \n",
              "1  0.043842  0.070531  0.075035   0.157895   0.219780     0.080752   \n",
              "2  0.028055  0.039036  0.047349   0.221053   0.450549     0.028473   \n",
              "3  0.006998  0.010549  0.016045   0.621053   0.879121     0.011776   \n",
              "4  0.002333  0.002818  0.003146   0.157895   0.384615     0.003492   \n",
              "\n",
              "   P.Undergrad  Outstate  Room.Board     Books  Personal       PhD  Terminal  \\\n",
              "0     0.024548  0.263430    0.239596  0.157754  0.297710  0.652632  0.710526   \n",
              "1     0.056148  0.513430    0.736129  0.291444  0.190840  0.221053  0.078947   \n",
              "2     0.004488  0.460227    0.310530  0.135472  0.139695  0.473684  0.552632   \n",
              "3     0.002839  0.548554    0.578499  0.157754  0.095420  0.884211  0.960526   \n",
              "4     0.039753  0.269628    0.368852  0.313725  0.190840  0.715789  0.631579   \n",
              "\n",
              "   S.F.Ratio  perc.alumni    Expend  Grad.Rate  Cluster  Private  \n",
              "0   0.418231     0.187500  0.072671   0.462963        0        0  \n",
              "1   0.260054     0.250000  0.138387   0.425926        0        0  \n",
              "2   0.278820     0.468750  0.104605   0.407407        0        0  \n",
              "3   0.139410     0.578125  0.298415   0.453704        1        0  \n",
              "4   0.252011     0.031250  0.145833   0.046296        0        0  "
            ],
            "text/html": [
              "\n",
              "  <div id=\"df-c155c587-228a-4785-bb8a-aea27b7e9acd\">\n",
              "    <div class=\"colab-df-container\">\n",
              "      <div>\n",
              "<style scoped>\n",
              "    .dataframe tbody tr th:only-of-type {\n",
              "        vertical-align: middle;\n",
              "    }\n",
              "\n",
              "    .dataframe tbody tr th {\n",
              "        vertical-align: top;\n",
              "    }\n",
              "\n",
              "    .dataframe thead th {\n",
              "        text-align: right;\n",
              "    }\n",
              "</style>\n",
              "<table border=\"1\" class=\"dataframe\">\n",
              "  <thead>\n",
              "    <tr style=\"text-align: right;\">\n",
              "      <th></th>\n",
              "      <th>Apps</th>\n",
              "      <th>Accept</th>\n",
              "      <th>Enroll</th>\n",
              "      <th>Top10perc</th>\n",
              "      <th>Top25perc</th>\n",
              "      <th>F.Undergrad</th>\n",
              "      <th>P.Undergrad</th>\n",
              "      <th>Outstate</th>\n",
              "      <th>Room.Board</th>\n",
              "      <th>Books</th>\n",
              "      <th>Personal</th>\n",
              "      <th>PhD</th>\n",
              "      <th>Terminal</th>\n",
              "      <th>S.F.Ratio</th>\n",
              "      <th>perc.alumni</th>\n",
              "      <th>Expend</th>\n",
              "      <th>Grad.Rate</th>\n",
              "      <th>Cluster</th>\n",
              "      <th>Private</th>\n",
              "    </tr>\n",
              "  </thead>\n",
              "  <tbody>\n",
              "    <tr>\n",
              "      <th>0</th>\n",
              "      <td>0.032887</td>\n",
              "      <td>0.044177</td>\n",
              "      <td>0.107913</td>\n",
              "      <td>0.231579</td>\n",
              "      <td>0.472527</td>\n",
              "      <td>0.087164</td>\n",
              "      <td>0.024548</td>\n",
              "      <td>0.263430</td>\n",
              "      <td>0.239596</td>\n",
              "      <td>0.157754</td>\n",
              "      <td>0.297710</td>\n",
              "      <td>0.652632</td>\n",
              "      <td>0.710526</td>\n",
              "      <td>0.418231</td>\n",
              "      <td>0.187500</td>\n",
              "      <td>0.072671</td>\n",
              "      <td>0.462963</td>\n",
              "      <td>0</td>\n",
              "      <td>0</td>\n",
              "    </tr>\n",
              "    <tr>\n",
              "      <th>1</th>\n",
              "      <td>0.043842</td>\n",
              "      <td>0.070531</td>\n",
              "      <td>0.075035</td>\n",
              "      <td>0.157895</td>\n",
              "      <td>0.219780</td>\n",
              "      <td>0.080752</td>\n",
              "      <td>0.056148</td>\n",
              "      <td>0.513430</td>\n",
              "      <td>0.736129</td>\n",
              "      <td>0.291444</td>\n",
              "      <td>0.190840</td>\n",
              "      <td>0.221053</td>\n",
              "      <td>0.078947</td>\n",
              "      <td>0.260054</td>\n",
              "      <td>0.250000</td>\n",
              "      <td>0.138387</td>\n",
              "      <td>0.425926</td>\n",
              "      <td>0</td>\n",
              "      <td>0</td>\n",
              "    </tr>\n",
              "    <tr>\n",
              "      <th>2</th>\n",
              "      <td>0.028055</td>\n",
              "      <td>0.039036</td>\n",
              "      <td>0.047349</td>\n",
              "      <td>0.221053</td>\n",
              "      <td>0.450549</td>\n",
              "      <td>0.028473</td>\n",
              "      <td>0.004488</td>\n",
              "      <td>0.460227</td>\n",
              "      <td>0.310530</td>\n",
              "      <td>0.135472</td>\n",
              "      <td>0.139695</td>\n",
              "      <td>0.473684</td>\n",
              "      <td>0.552632</td>\n",
              "      <td>0.278820</td>\n",
              "      <td>0.468750</td>\n",
              "      <td>0.104605</td>\n",
              "      <td>0.407407</td>\n",
              "      <td>0</td>\n",
              "      <td>0</td>\n",
              "    </tr>\n",
              "    <tr>\n",
              "      <th>3</th>\n",
              "      <td>0.006998</td>\n",
              "      <td>0.010549</td>\n",
              "      <td>0.016045</td>\n",
              "      <td>0.621053</td>\n",
              "      <td>0.879121</td>\n",
              "      <td>0.011776</td>\n",
              "      <td>0.002839</td>\n",
              "      <td>0.548554</td>\n",
              "      <td>0.578499</td>\n",
              "      <td>0.157754</td>\n",
              "      <td>0.095420</td>\n",
              "      <td>0.884211</td>\n",
              "      <td>0.960526</td>\n",
              "      <td>0.139410</td>\n",
              "      <td>0.578125</td>\n",
              "      <td>0.298415</td>\n",
              "      <td>0.453704</td>\n",
              "      <td>1</td>\n",
              "      <td>0</td>\n",
              "    </tr>\n",
              "    <tr>\n",
              "      <th>4</th>\n",
              "      <td>0.002333</td>\n",
              "      <td>0.002818</td>\n",
              "      <td>0.003146</td>\n",
              "      <td>0.157895</td>\n",
              "      <td>0.384615</td>\n",
              "      <td>0.003492</td>\n",
              "      <td>0.039753</td>\n",
              "      <td>0.269628</td>\n",
              "      <td>0.368852</td>\n",
              "      <td>0.313725</td>\n",
              "      <td>0.190840</td>\n",
              "      <td>0.715789</td>\n",
              "      <td>0.631579</td>\n",
              "      <td>0.252011</td>\n",
              "      <td>0.031250</td>\n",
              "      <td>0.145833</td>\n",
              "      <td>0.046296</td>\n",
              "      <td>0</td>\n",
              "      <td>0</td>\n",
              "    </tr>\n",
              "  </tbody>\n",
              "</table>\n",
              "</div>\n",
              "      <button class=\"colab-df-convert\" onclick=\"convertToInteractive('df-c155c587-228a-4785-bb8a-aea27b7e9acd')\"\n",
              "              title=\"Convert this dataframe to an interactive table.\"\n",
              "              style=\"display:none;\">\n",
              "        \n",
              "  <svg xmlns=\"http://www.w3.org/2000/svg\" height=\"24px\"viewBox=\"0 0 24 24\"\n",
              "       width=\"24px\">\n",
              "    <path d=\"M0 0h24v24H0V0z\" fill=\"none\"/>\n",
              "    <path d=\"M18.56 5.44l.94 2.06.94-2.06 2.06-.94-2.06-.94-.94-2.06-.94 2.06-2.06.94zm-11 1L8.5 8.5l.94-2.06 2.06-.94-2.06-.94L8.5 2.5l-.94 2.06-2.06.94zm10 10l.94 2.06.94-2.06 2.06-.94-2.06-.94-.94-2.06-.94 2.06-2.06.94z\"/><path d=\"M17.41 7.96l-1.37-1.37c-.4-.4-.92-.59-1.43-.59-.52 0-1.04.2-1.43.59L10.3 9.45l-7.72 7.72c-.78.78-.78 2.05 0 2.83L4 21.41c.39.39.9.59 1.41.59.51 0 1.02-.2 1.41-.59l7.78-7.78 2.81-2.81c.8-.78.8-2.07 0-2.86zM5.41 20L4 18.59l7.72-7.72 1.47 1.35L5.41 20z\"/>\n",
              "  </svg>\n",
              "      </button>\n",
              "      \n",
              "  <style>\n",
              "    .colab-df-container {\n",
              "      display:flex;\n",
              "      flex-wrap:wrap;\n",
              "      gap: 12px;\n",
              "    }\n",
              "\n",
              "    .colab-df-convert {\n",
              "      background-color: #E8F0FE;\n",
              "      border: none;\n",
              "      border-radius: 50%;\n",
              "      cursor: pointer;\n",
              "      display: none;\n",
              "      fill: #1967D2;\n",
              "      height: 32px;\n",
              "      padding: 0 0 0 0;\n",
              "      width: 32px;\n",
              "    }\n",
              "\n",
              "    .colab-df-convert:hover {\n",
              "      background-color: #E2EBFA;\n",
              "      box-shadow: 0px 1px 2px rgba(60, 64, 67, 0.3), 0px 1px 3px 1px rgba(60, 64, 67, 0.15);\n",
              "      fill: #174EA6;\n",
              "    }\n",
              "\n",
              "    [theme=dark] .colab-df-convert {\n",
              "      background-color: #3B4455;\n",
              "      fill: #D2E3FC;\n",
              "    }\n",
              "\n",
              "    [theme=dark] .colab-df-convert:hover {\n",
              "      background-color: #434B5C;\n",
              "      box-shadow: 0px 1px 3px 1px rgba(0, 0, 0, 0.15);\n",
              "      filter: drop-shadow(0px 1px 2px rgba(0, 0, 0, 0.3));\n",
              "      fill: #FFFFFF;\n",
              "    }\n",
              "  </style>\n",
              "\n",
              "      <script>\n",
              "        const buttonEl =\n",
              "          document.querySelector('#df-c155c587-228a-4785-bb8a-aea27b7e9acd button.colab-df-convert');\n",
              "        buttonEl.style.display =\n",
              "          google.colab.kernel.accessAllowed ? 'block' : 'none';\n",
              "\n",
              "        async function convertToInteractive(key) {\n",
              "          const element = document.querySelector('#df-c155c587-228a-4785-bb8a-aea27b7e9acd');\n",
              "          const dataTable =\n",
              "            await google.colab.kernel.invokeFunction('convertToInteractive',\n",
              "                                                     [key], {});\n",
              "          if (!dataTable) return;\n",
              "\n",
              "          const docLinkHtml = 'Like what you see? Visit the ' +\n",
              "            '<a target=\"_blank\" href=https://colab.research.google.com/notebooks/data_table.ipynb>data table notebook</a>'\n",
              "            + ' to learn more about interactive tables.';\n",
              "          element.innerHTML = '';\n",
              "          dataTable['output_type'] = 'display_data';\n",
              "          await google.colab.output.renderOutput(dataTable, element);\n",
              "          const docLink = document.createElement('div');\n",
              "          docLink.innerHTML = docLinkHtml;\n",
              "          element.appendChild(docLink);\n",
              "        }\n",
              "      </script>\n",
              "    </div>\n",
              "  </div>\n",
              "  "
            ]
          },
          "metadata": {},
          "execution_count": 1495
        }
      ]
    },
    {
      "cell_type": "code",
      "source": [
        "# Reduz a dimensionalidade dos dados para 2 dimensões usando PCA\n",
        "pca = PCA(n_components=2)\n",
        "X_pca_supervisioned = pca.fit_transform(college_df_normalized_supervisioned)"
      ],
      "metadata": {
        "id": "NbEMY_qkmvGU"
      },
      "execution_count": null,
      "outputs": []
    },
    {
      "cell_type": "code",
      "source": [
        "# Executando K-Means repedidas vezes bara base reduzida\n",
        "t0 = time()\n",
        "kmeans_pca = KMeans(n_clusters=k, init='random', random_state=RANDOM_STATE, n_init=MAX_ITER)\n",
        "kmeans_pca.fit(X_pca_supervisioned)\n",
        "t1 = time()\n",
        "time_kmeans_pca = t1 - t0\n",
        "inertia_kmeans_pca = kmeans_pca.inertia_"
      ],
      "metadata": {
        "id": "YBThvhDcmvGV"
      },
      "execution_count": null,
      "outputs": []
    },
    {
      "cell_type": "code",
      "source": [
        "# Calculando distância inter-cluster usando o silhouette_score\n",
        "inter_cluster_distance_kmeans_pca = silhouette_score(X_pca_supervisioned, kmeans_pca.labels_)"
      ],
      "metadata": {
        "id": "hwOAWatUmvGW"
      },
      "execution_count": null,
      "outputs": []
    },
    {
      "cell_type": "code",
      "source": [
        "# Imprimindo resultados\n",
        "print(\"\\n\\t\\t\\t\\tK-Means PCA\\n\")\n",
        "print(\"Tempo de Execução: \\t\\t{:.2f}s\".format(time_kmeans_pca))\n",
        "print(\"Distância Intra-cluster: \\t{:.2f}\".format(inertia_kmeans_pca))\n",
        "print(\"Distância Inter-cluster: \\t{:.2f}\".format(inter_cluster_distance_kmeans_pca))"
      ],
      "metadata": {
        "colab": {
          "base_uri": "https://localhost:8080/"
        },
        "id": "1qfKZEDtmvGW",
        "outputId": "82c6b68a-0c76-46f3-e67d-209b927eaef6"
      },
      "execution_count": null,
      "outputs": [
        {
          "output_type": "stream",
          "name": "stdout",
          "text": [
            "\n",
            "\t\t\t\tK-Means PCA\n",
            "\n",
            "Tempo de Execução: \t\t0.13s\n",
            "Distância Intra-cluster: \t130.06\n",
            "Distância Inter-cluster: \t0.62\n"
          ]
        }
      ]
    },
    {
      "cell_type": "markdown",
      "source": [
        "####Visualizando Clusters"
      ],
      "metadata": {
        "id": "0O3lVXJqmvGX"
      }
    },
    {
      "cell_type": "code",
      "source": [
        "labels = kmeans_pca.labels_\n",
        "centroids = kmeans_pca.cluster_centers_"
      ],
      "metadata": {
        "id": "spgtLEyFmvGX"
      },
      "execution_count": null,
      "outputs": []
    },
    {
      "cell_type": "code",
      "source": [
        "# selecionando as colunas do array de dados\n",
        "x = X_pca_supervisioned[:, 0]\n",
        "y = X_pca_supervisioned[:, 1]"
      ],
      "metadata": {
        "id": "Vr7yfAQ0mvGY"
      },
      "execution_count": null,
      "outputs": []
    },
    {
      "cell_type": "code",
      "source": [
        "plt.scatter(x,y, c=labels) # Plota os pontos coloridos pelos clusters\n",
        "plt.scatter(centroids[:, 0], centroids[:, 1], marker='*', s=200, linewidths=1, color='r') # Plota os centróides em vermelho\n",
        "plt.show() # Mostra o gráfico"
      ],
      "metadata": {
        "colab": {
          "base_uri": "https://localhost:8080/"
        },
        "id": "6z9Uo_z6mvGY",
        "outputId": "4d9d4981-0f2d-47e9-c062-35e2768408d3"
      },
      "execution_count": null,
      "outputs": [
        {
          "output_type": "display_data",
          "data": {
            "text/plain": [
              "<Figure size 640x480 with 1 Axes>"
            ],
            "image/png": "[encoded data removed]"
          },
          "metadata": {}
        }
      ]
    },
    {
      "cell_type": "code",
      "source": [
        "correct_predictions = 0\n",
        "total_predictions = college_df_normalized.shape[0]\n",
        "\n",
        "for index, row in college_df_normalized.iterrows():\n",
        "  if row['Cluster'] == row['Private']:\n",
        "    correct_predictions += 1\n",
        "\n",
        "accuracy = correct_predictions/total_predictions\n",
        "accuracy"
      ],
      "metadata": {
        "colab": {
          "base_uri": "https://localhost:8080/"
        },
        "id": "jrx4ivQQlY59",
        "outputId": "b4464070-76c9-4d4b-a0a7-dfb7d421b0b3"
      },
      "execution_count": null,
      "outputs": [
        {
          "output_type": "execute_result",
          "data": {
            "text/plain": [
              "0.4594594594594595"
            ]
          },
          "metadata": {},
          "execution_count": 1503
        }
      ]
    },
    {
      "cell_type": "markdown",
      "source": [
        "## ✏️ **Conclusão**"
      ],
      "metadata": {
        "id": "Oc2bv7Ya_pXW"
      }
    },
    {
      "cell_type": "code",
      "source": [
        "report('Resultados Supervisionados', college_df_normalized['Private'], college_df_normalized['Cluster'])"
      ],
      "metadata": {
        "colab": {
          "base_uri": "https://localhost:8080/"
        },
        "id": "tUhUF2kVdkGa",
        "outputId": "1ca3925b-e6e3-47df-8c5e-2e1f42d4347b"
      },
      "execution_count": null,
      "outputs": [
        {
          "output_type": "stream",
          "name": "stdout",
          "text": [
            "Resultados Supervisionados\n",
            "              precision    recall  f1-score   support\n",
            "\n",
            "           0       0.65      0.56      0.60       565\n",
            "           1       0.14      0.20      0.17       212\n",
            "\n",
            "    accuracy                           0.46       777\n",
            "   macro avg       0.40      0.38      0.38       777\n",
            "weighted avg       0.51      0.46      0.48       777\n",
            "\n"
          ]
        },
        {
          "output_type": "display_data",
          "data": {
            "text/plain": [
              "<Figure size 400x400 with 2 Axes>"
            ],
            "image/png": "[encoded data removed]"
          },
          "metadata": {}
        }
      ]
    }
  ]
}